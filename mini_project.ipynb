{
 "cells": [
  {
   "cell_type": "code",
   "execution_count": 353,
   "id": "dbae3e51",
   "metadata": {},
   "outputs": [],
   "source": [
    "import pandas as pd \n",
    "import numpy as np\n",
    "import seaborn as sns\n",
    "import matplotlib.pyplot as plt\n",
    "import plotly.express as px\n",
    "from itertools import combinations\n",
    "from collections import Counter"
   ]
  },
  {
   "cell_type": "markdown",
   "id": "57f63f49",
   "metadata": {},
   "source": [
    "#1.\tLoad the sales datasets & concatenate them into one dataframe \n"
   ]
  },
  {
   "cell_type": "code",
   "execution_count": 354,
   "id": "e8add413",
   "metadata": {},
   "outputs": [
    {
     "data": {
      "text/html": [
       "<div>\n",
       "<style scoped>\n",
       "    .dataframe tbody tr th:only-of-type {\n",
       "        vertical-align: middle;\n",
       "    }\n",
       "\n",
       "    .dataframe tbody tr th {\n",
       "        vertical-align: top;\n",
       "    }\n",
       "\n",
       "    .dataframe thead th {\n",
       "        text-align: right;\n",
       "    }\n",
       "</style>\n",
       "<table border=\"1\" class=\"dataframe\">\n",
       "  <thead>\n",
       "    <tr style=\"text-align: right;\">\n",
       "      <th></th>\n",
       "      <th>Order_ID</th>\n",
       "      <th>Date</th>\n",
       "      <th>Customer_ID</th>\n",
       "      <th>Country_Code</th>\n",
       "      <th>Channel</th>\n",
       "      <th>Sales_person</th>\n",
       "      <th>Units_Sold</th>\n",
       "      <th>Unit_Price</th>\n",
       "      <th>Product_Code</th>\n",
       "      <th>Product</th>\n",
       "      <th>Promotion_Flag</th>\n",
       "      <th>Commission_Percent</th>\n",
       "    </tr>\n",
       "  </thead>\n",
       "  <tbody>\n",
       "    <tr>\n",
       "      <th>0</th>\n",
       "      <td>ORD0000001</td>\n",
       "      <td>2022-01-14</td>\n",
       "      <td>CUSTJ00001</td>\n",
       "      <td>JO</td>\n",
       "      <td>Online</td>\n",
       "      <td>ahmed</td>\n",
       "      <td>1</td>\n",
       "      <td>925.33</td>\n",
       "      <td>EB01</td>\n",
       "      <td>Laptop</td>\n",
       "      <td>0</td>\n",
       "      <td>0.03</td>\n",
       "    </tr>\n",
       "    <tr>\n",
       "      <th>1</th>\n",
       "      <td>ORD0000002</td>\n",
       "      <td>2021-12-21</td>\n",
       "      <td>CUSTJ00002</td>\n",
       "      <td>JO</td>\n",
       "      <td>offline</td>\n",
       "      <td>Sara</td>\n",
       "      <td>5</td>\n",
       "      <td>161.18</td>\n",
       "      <td>EG02</td>\n",
       "      <td>Gaming Chair</td>\n",
       "      <td>0</td>\n",
       "      <td>0.05</td>\n",
       "    </tr>\n",
       "    <tr>\n",
       "      <th>2</th>\n",
       "      <td>ORD0000003</td>\n",
       "      <td>2021-12-10</td>\n",
       "      <td>CUSTJ00002</td>\n",
       "      <td>Jordan</td>\n",
       "      <td>Offline</td>\n",
       "      <td>Ahmed</td>\n",
       "      <td>3</td>\n",
       "      <td>4.94</td>\n",
       "      <td>E05</td>\n",
       "      <td>Cable</td>\n",
       "      <td>0</td>\n",
       "      <td>0.05</td>\n",
       "    </tr>\n",
       "  </tbody>\n",
       "</table>\n",
       "</div>"
      ],
      "text/plain": [
       "     Order_ID        Date Customer_ID Country_Code  Channel Sales_person  \\\n",
       "0  ORD0000001  2022-01-14  CUSTJ00001           JO   Online        ahmed   \n",
       "1  ORD0000002  2021-12-21  CUSTJ00002           JO  offline         Sara   \n",
       "2  ORD0000003  2021-12-10  CUSTJ00002       Jordan  Offline        Ahmed   \n",
       "\n",
       "   Units_Sold  Unit_Price Product_Code       Product  Promotion_Flag  \\\n",
       "0           1      925.33         EB01        Laptop               0   \n",
       "1           5      161.18         EG02  Gaming Chair               0   \n",
       "2           3        4.94          E05         Cable               0   \n",
       "\n",
       "   Commission_Percent  \n",
       "0                0.03  \n",
       "1                0.05  \n",
       "2                0.05  "
      ]
     },
     "execution_count": 354,
     "metadata": {},
     "output_type": "execute_result"
    }
   ],
   "source": [
    "sale_data1=pd.read_csv('sales_data_part1.csv')\n",
    "sale_data2=pd.read_csv('sales_data_part2.csv')\n",
    "customers = pd.read_csv('customers.csv')\n",
    "\n",
    "sale_dataM=pd.concat([sale_data1,sale_data2],axis=0,ignore_index=True)\n",
    "sale_dataM.head(3)"
   ]
  },
  {
   "cell_type": "markdown",
   "id": "7b182e0c",
   "metadata": {},
   "source": [
    "#2.\tRename all column names to snake_case format \n"
   ]
  },
  {
   "cell_type": "code",
   "execution_count": 355,
   "id": "2fe60928",
   "metadata": {},
   "outputs": [
    {
     "name": "stdout",
     "output_type": "stream",
     "text": [
      "['order_id', 'date', 'customer_id', 'country_code', 'channel', 'sales_person', 'units_sold', 'unit_price', 'product_code', 'product', 'promotion_flag', 'commission_percent']\n"
     ]
    }
   ],
   "source": [
    "sale_dataM.columns=sale_dataM.columns.str.lower()\n",
    "print(list(sale_dataM.columns))"
   ]
  },
  {
   "cell_type": "markdown",
   "id": "81c19bc5",
   "metadata": {},
   "source": [
    "#3.\tStandardize text data, fill missing data with ‘unknown’\n"
   ]
  },
  {
   "cell_type": "code",
   "execution_count": 356,
   "id": "b7a5cece",
   "metadata": {},
   "outputs": [
    {
     "data": {
      "text/plain": [
       "order_id              0\n",
       "date                  0\n",
       "customer_id           0\n",
       "country_code          0\n",
       "channel               5\n",
       "sales_person          0\n",
       "units_sold            0\n",
       "unit_price            0\n",
       "product_code          0\n",
       "product               0\n",
       "promotion_flag        0\n",
       "commission_percent    0\n",
       "dtype: int64"
      ]
     },
     "execution_count": 356,
     "metadata": {},
     "output_type": "execute_result"
    }
   ],
   "source": [
    "sale_dataM.isnull().sum()"
   ]
  },
  {
   "cell_type": "code",
   "execution_count": 357,
   "id": "ab8cf6e2",
   "metadata": {},
   "outputs": [
    {
     "data": {
      "text/plain": [
       "order_id              0\n",
       "date                  0\n",
       "customer_id           0\n",
       "country_code          0\n",
       "channel               0\n",
       "sales_person          0\n",
       "units_sold            0\n",
       "unit_price            0\n",
       "product_code          0\n",
       "product               0\n",
       "promotion_flag        0\n",
       "commission_percent    0\n",
       "dtype: int64"
      ]
     },
     "execution_count": 357,
     "metadata": {},
     "output_type": "execute_result"
    }
   ],
   "source": [
    "sale_dataM['channel']=sale_dataM['channel'].fillna('unknown')\n",
    "sale_dataM.isnull().sum()"
   ]
  },
  {
   "cell_type": "code",
   "execution_count": 358,
   "id": "d7b72ef0",
   "metadata": {},
   "outputs": [
    {
     "data": {
      "text/plain": [
       "0      online\n",
       "1     offline\n",
       "2     offline\n",
       "3      online\n",
       "4      online\n",
       "5      online\n",
       "6     offline\n",
       "7      online\n",
       "8     offline\n",
       "9     offline\n",
       "10     online\n",
       "11     online\n",
       "12    offline\n",
       "13     online\n",
       "14     online\n",
       "15    offline\n",
       "16    offline\n",
       "17     online\n",
       "18     online\n",
       "19     online\n",
       "20    offline\n",
       "Name: channel, dtype: object"
      ]
     },
     "execution_count": 358,
     "metadata": {},
     "output_type": "execute_result"
    }
   ],
   "source": [
    "sale_dataM.loc[:, \"channel\"] = sale_dataM[\"channel\"].str.strip().str.lower()\n",
    "\n",
    "channel_mapping = {\n",
    "    \"website\": \"online\",\n",
    "    \"online\": \"online\",\n",
    "    \"in-store\": \"offline\",\n",
    "    \"offline\": \"offline\"\n",
    "}\n",
    "\n",
    "sale_dataM.loc[:, \"channel\"] = sale_dataM[\"channel\"].map(channel_mapping)\n",
    "sale_dataM.loc[0:20, \"channel\"]\n"
   ]
  },
  {
   "cell_type": "markdown",
   "id": "80e154c5",
   "metadata": {},
   "source": [
    "4.\tDuplicate Records"
   ]
  },
  {
   "cell_type": "code",
   "execution_count": 359,
   "id": "190c87b8",
   "metadata": {},
   "outputs": [
    {
     "data": {
      "text/plain": [
       "15"
      ]
     },
     "execution_count": 359,
     "metadata": {},
     "output_type": "execute_result"
    }
   ],
   "source": [
    "#Identify all duplicate records in the dataset\n",
    "sale_dataM.duplicated().sum()"
   ]
  },
  {
   "cell_type": "code",
   "execution_count": 360,
   "id": "3072e6ca",
   "metadata": {},
   "outputs": [
    {
     "data": {
      "text/html": [
       "<div>\n",
       "<style scoped>\n",
       "    .dataframe tbody tr th:only-of-type {\n",
       "        vertical-align: middle;\n",
       "    }\n",
       "\n",
       "    .dataframe tbody tr th {\n",
       "        vertical-align: top;\n",
       "    }\n",
       "\n",
       "    .dataframe thead th {\n",
       "        text-align: right;\n",
       "    }\n",
       "</style>\n",
       "<table border=\"1\" class=\"dataframe\">\n",
       "  <thead>\n",
       "    <tr style=\"text-align: right;\">\n",
       "      <th></th>\n",
       "      <th>order_id</th>\n",
       "      <th>date</th>\n",
       "      <th>customer_id</th>\n",
       "      <th>country_code</th>\n",
       "      <th>channel</th>\n",
       "      <th>sales_person</th>\n",
       "      <th>units_sold</th>\n",
       "      <th>unit_price</th>\n",
       "      <th>product_code</th>\n",
       "      <th>product</th>\n",
       "      <th>promotion_flag</th>\n",
       "      <th>commission_percent</th>\n",
       "    </tr>\n",
       "  </thead>\n",
       "  <tbody>\n",
       "    <tr>\n",
       "      <th>9147</th>\n",
       "      <td>ORD0001832</td>\n",
       "      <td>2023-05-11</td>\n",
       "      <td>CUSTJ00226</td>\n",
       "      <td>Jordn</td>\n",
       "      <td>offline</td>\n",
       "      <td>Ahmed</td>\n",
       "      <td>1</td>\n",
       "      <td>907.00</td>\n",
       "      <td>EB01</td>\n",
       "      <td>Laptop</td>\n",
       "      <td>0</td>\n",
       "      <td>0.02</td>\n",
       "    </tr>\n",
       "    <tr>\n",
       "      <th>9148</th>\n",
       "      <td>ORD0006503</td>\n",
       "      <td>2024-06-11</td>\n",
       "      <td>CUSTL00255</td>\n",
       "      <td>LEB</td>\n",
       "      <td>online</td>\n",
       "      <td>Lina</td>\n",
       "      <td>3</td>\n",
       "      <td>27.97</td>\n",
       "      <td>A01</td>\n",
       "      <td>Accessory</td>\n",
       "      <td>0</td>\n",
       "      <td>0.03</td>\n",
       "    </tr>\n",
       "    <tr>\n",
       "      <th>9149</th>\n",
       "      <td>ORD0000664</td>\n",
       "      <td>2025-03-10</td>\n",
       "      <td>CUSTJ00089</td>\n",
       "      <td>Jordan</td>\n",
       "      <td>offline</td>\n",
       "      <td>Rami</td>\n",
       "      <td>3</td>\n",
       "      <td>6.24</td>\n",
       "      <td>E05</td>\n",
       "      <td>Cable</td>\n",
       "      <td>0</td>\n",
       "      <td>0.05</td>\n",
       "    </tr>\n",
       "    <tr>\n",
       "      <th>9150</th>\n",
       "      <td>ORD0003191</td>\n",
       "      <td>2022-03-02</td>\n",
       "      <td>CUSTJ00407</td>\n",
       "      <td>JO</td>\n",
       "      <td>online</td>\n",
       "      <td>rami</td>\n",
       "      <td>3</td>\n",
       "      <td>47.69</td>\n",
       "      <td>EG03</td>\n",
       "      <td>Headset</td>\n",
       "      <td>0</td>\n",
       "      <td>0.02</td>\n",
       "    </tr>\n",
       "    <tr>\n",
       "      <th>9151</th>\n",
       "      <td>ORD0003191</td>\n",
       "      <td>2022-03-02</td>\n",
       "      <td>CUSTJ00407</td>\n",
       "      <td>JO</td>\n",
       "      <td>online</td>\n",
       "      <td>rami</td>\n",
       "      <td>3</td>\n",
       "      <td>47.69</td>\n",
       "      <td>EG03</td>\n",
       "      <td>Headset</td>\n",
       "      <td>0</td>\n",
       "      <td>0.02</td>\n",
       "    </tr>\n",
       "    <tr>\n",
       "      <th>9152</th>\n",
       "      <td>ORD0006564</td>\n",
       "      <td>2022-08-18</td>\n",
       "      <td>CUSTL00261</td>\n",
       "      <td>LEBANON</td>\n",
       "      <td>online</td>\n",
       "      <td>Lina</td>\n",
       "      <td>3</td>\n",
       "      <td>351.50</td>\n",
       "      <td>P02</td>\n",
       "      <td>Tablet</td>\n",
       "      <td>0</td>\n",
       "      <td>0.03</td>\n",
       "    </tr>\n",
       "    <tr>\n",
       "      <th>9153</th>\n",
       "      <td>ORD0006564</td>\n",
       "      <td>2022-08-18</td>\n",
       "      <td>CUSTL00261</td>\n",
       "      <td>LEBANON</td>\n",
       "      <td>online</td>\n",
       "      <td>Lina</td>\n",
       "      <td>3</td>\n",
       "      <td>351.50</td>\n",
       "      <td>P02</td>\n",
       "      <td>Tablet</td>\n",
       "      <td>0</td>\n",
       "      <td>0.03</td>\n",
       "    </tr>\n",
       "    <tr>\n",
       "      <th>9154</th>\n",
       "      <td>ORD0003316</td>\n",
       "      <td>2023-08-23</td>\n",
       "      <td>CUSTJ00410</td>\n",
       "      <td>Jor</td>\n",
       "      <td>online</td>\n",
       "      <td>ali</td>\n",
       "      <td>1</td>\n",
       "      <td>162.98</td>\n",
       "      <td>M01</td>\n",
       "      <td>Monitor</td>\n",
       "      <td>0</td>\n",
       "      <td>0.05</td>\n",
       "    </tr>\n",
       "    <tr>\n",
       "      <th>9155</th>\n",
       "      <td>ORD0007735</td>\n",
       "      <td>2023-06-26</td>\n",
       "      <td>CUSTL00406</td>\n",
       "      <td>LEBN</td>\n",
       "      <td>online</td>\n",
       "      <td>Sami</td>\n",
       "      <td>1</td>\n",
       "      <td>27.08</td>\n",
       "      <td>A01</td>\n",
       "      <td>Accessory</td>\n",
       "      <td>0</td>\n",
       "      <td>0.05</td>\n",
       "    </tr>\n",
       "    <tr>\n",
       "      <th>9156</th>\n",
       "      <td>ORD0004398</td>\n",
       "      <td>2021-10-21</td>\n",
       "      <td>CUSTL00033</td>\n",
       "      <td>LEBANON</td>\n",
       "      <td>online</td>\n",
       "      <td>Sami</td>\n",
       "      <td>4</td>\n",
       "      <td>32.13</td>\n",
       "      <td>A01</td>\n",
       "      <td>Accessory</td>\n",
       "      <td>0</td>\n",
       "      <td>0.03</td>\n",
       "    </tr>\n",
       "    <tr>\n",
       "      <th>9157</th>\n",
       "      <td>ORD0004398</td>\n",
       "      <td>2021-10-21</td>\n",
       "      <td>CUSTL00033</td>\n",
       "      <td>LEBANON</td>\n",
       "      <td>online</td>\n",
       "      <td>Sami</td>\n",
       "      <td>4</td>\n",
       "      <td>32.13</td>\n",
       "      <td>A01</td>\n",
       "      <td>Accessory</td>\n",
       "      <td>0</td>\n",
       "      <td>0.03</td>\n",
       "    </tr>\n",
       "    <tr>\n",
       "      <th>9158</th>\n",
       "      <td>ORD0003927</td>\n",
       "      <td>2021-07-04</td>\n",
       "      <td>CUSTJ00486</td>\n",
       "      <td>Jor</td>\n",
       "      <td>online</td>\n",
       "      <td>Ahmed</td>\n",
       "      <td>5</td>\n",
       "      <td>31.44</td>\n",
       "      <td>E04</td>\n",
       "      <td>Keyboard</td>\n",
       "      <td>0</td>\n",
       "      <td>0.05</td>\n",
       "    </tr>\n",
       "    <tr>\n",
       "      <th>9159</th>\n",
       "      <td>ORD0003927</td>\n",
       "      <td>2021-07-04</td>\n",
       "      <td>CUSTJ00486</td>\n",
       "      <td>Jor</td>\n",
       "      <td>online</td>\n",
       "      <td>Ahmed</td>\n",
       "      <td>5</td>\n",
       "      <td>31.44</td>\n",
       "      <td>E04</td>\n",
       "      <td>Keyboard</td>\n",
       "      <td>0</td>\n",
       "      <td>0.05</td>\n",
       "    </tr>\n",
       "    <tr>\n",
       "      <th>9160</th>\n",
       "      <td>ORD0007841</td>\n",
       "      <td>2023-04-25</td>\n",
       "      <td>CUSTL00421</td>\n",
       "      <td>LEBN</td>\n",
       "      <td>online</td>\n",
       "      <td>Lina</td>\n",
       "      <td>3</td>\n",
       "      <td>364.11</td>\n",
       "      <td>P02</td>\n",
       "      <td>Tablet</td>\n",
       "      <td>0</td>\n",
       "      <td>0.05</td>\n",
       "    </tr>\n",
       "    <tr>\n",
       "      <th>9161</th>\n",
       "      <td>ORD0007841</td>\n",
       "      <td>2023-04-25</td>\n",
       "      <td>CUSTL00421</td>\n",
       "      <td>LEBN</td>\n",
       "      <td>online</td>\n",
       "      <td>Lina</td>\n",
       "      <td>3</td>\n",
       "      <td>364.11</td>\n",
       "      <td>P02</td>\n",
       "      <td>Tablet</td>\n",
       "      <td>0</td>\n",
       "      <td>0.05</td>\n",
       "    </tr>\n",
       "  </tbody>\n",
       "</table>\n",
       "</div>"
      ],
      "text/plain": [
       "        order_id        date customer_id country_code  channel sales_person  \\\n",
       "9147  ORD0001832  2023-05-11  CUSTJ00226        Jordn  offline        Ahmed   \n",
       "9148  ORD0006503  2024-06-11  CUSTL00255          LEB   online         Lina   \n",
       "9149  ORD0000664  2025-03-10  CUSTJ00089       Jordan  offline         Rami   \n",
       "9150  ORD0003191  2022-03-02  CUSTJ00407           JO   online         rami   \n",
       "9151  ORD0003191  2022-03-02  CUSTJ00407           JO   online         rami   \n",
       "9152  ORD0006564  2022-08-18  CUSTL00261      LEBANON   online         Lina   \n",
       "9153  ORD0006564  2022-08-18  CUSTL00261      LEBANON   online         Lina   \n",
       "9154  ORD0003316  2023-08-23  CUSTJ00410          Jor   online          ali   \n",
       "9155  ORD0007735  2023-06-26  CUSTL00406         LEBN   online         Sami   \n",
       "9156  ORD0004398  2021-10-21  CUSTL00033      LEBANON   online         Sami   \n",
       "9157  ORD0004398  2021-10-21  CUSTL00033      LEBANON   online         Sami   \n",
       "9158  ORD0003927  2021-07-04  CUSTJ00486          Jor   online        Ahmed   \n",
       "9159  ORD0003927  2021-07-04  CUSTJ00486          Jor   online        Ahmed   \n",
       "9160  ORD0007841  2023-04-25  CUSTL00421         LEBN   online         Lina   \n",
       "9161  ORD0007841  2023-04-25  CUSTL00421         LEBN   online         Lina   \n",
       "\n",
       "      units_sold  unit_price product_code    product  promotion_flag  \\\n",
       "9147           1      907.00         EB01     Laptop               0   \n",
       "9148           3       27.97          A01  Accessory               0   \n",
       "9149           3        6.24          E05      Cable               0   \n",
       "9150           3       47.69         EG03    Headset               0   \n",
       "9151           3       47.69         EG03    Headset               0   \n",
       "9152           3      351.50          P02     Tablet               0   \n",
       "9153           3      351.50          P02     Tablet               0   \n",
       "9154           1      162.98          M01    Monitor               0   \n",
       "9155           1       27.08          A01  Accessory               0   \n",
       "9156           4       32.13          A01  Accessory               0   \n",
       "9157           4       32.13          A01  Accessory               0   \n",
       "9158           5       31.44          E04   Keyboard               0   \n",
       "9159           5       31.44          E04   Keyboard               0   \n",
       "9160           3      364.11          P02     Tablet               0   \n",
       "9161           3      364.11          P02     Tablet               0   \n",
       "\n",
       "      commission_percent  \n",
       "9147                0.02  \n",
       "9148                0.03  \n",
       "9149                0.05  \n",
       "9150                0.02  \n",
       "9151                0.02  \n",
       "9152                0.03  \n",
       "9153                0.03  \n",
       "9154                0.05  \n",
       "9155                0.05  \n",
       "9156                0.03  \n",
       "9157                0.03  \n",
       "9158                0.05  \n",
       "9159                0.05  \n",
       "9160                0.05  \n",
       "9161                0.05  "
      ]
     },
     "execution_count": 360,
     "metadata": {},
     "output_type": "execute_result"
    }
   ],
   "source": [
    "#Store duplicate records in a separate DataFrame for investigation\n",
    "df_dup=sale_dataM[sale_dataM.duplicated()]\n",
    "df_dup\n",
    "\n"
   ]
  },
  {
   "cell_type": "code",
   "execution_count": 361,
   "id": "03969957",
   "metadata": {},
   "outputs": [],
   "source": [
    "df_dup.to_csv('duplicates.csv', index=False)"
   ]
  },
  {
   "cell_type": "code",
   "execution_count": 362,
   "id": "41e349ec",
   "metadata": {},
   "outputs": [],
   "source": [
    "#Remove duplicate entries from the main dataset (keep first occurrence)\n",
    "sale_dataM = sale_dataM.drop_duplicates(keep='first')"
   ]
  },
  {
   "cell_type": "code",
   "execution_count": 363,
   "id": "7ac74d41",
   "metadata": {},
   "outputs": [
    {
     "name": "stdout",
     "output_type": "stream",
     "text": [
      "datetime64[ns]\n"
     ]
    }
   ],
   "source": [
    "#6 Convert data types(ensure dates are datetime, numeric columns are numeric)\n",
    "\n",
    "#sale_dataM.dtypes #check\n",
    "sale_dataM['date']=pd.to_datetime(sale_dataM['date'])\n",
    "print(sale_dataM['date'].dtypes) "
   ]
  },
  {
   "cell_type": "code",
   "execution_count": 364,
   "id": "363d33ef",
   "metadata": {},
   "outputs": [
    {
     "name": "stdout",
     "output_type": "stream",
     "text": [
      "units_sold              int64\n",
      "unit_price            float64\n",
      "promotion_flag          int64\n",
      "commission_percent    float64\n",
      "dtype: object\n"
     ]
    }
   ],
   "source": [
    "numeric_cols = sale_dataM.select_dtypes(include='number').columns\n",
    "\n",
    "for col in numeric_cols:\n",
    "    sale_dataM[col] = pd.to_numeric(sale_dataM[col], errors='coerce')\n",
    "\n",
    "print(sale_dataM[numeric_cols].dtypes) \n"
   ]
  },
  {
   "cell_type": "markdown",
   "id": "65809e5e",
   "metadata": {},
   "source": [
    "feature_engineering"
   ]
  },
  {
   "cell_type": "code",
   "execution_count": 365,
   "id": "8dcb3c99",
   "metadata": {},
   "outputs": [
    {
     "data": {
      "text/plain": [
       "array(['JO', 'Jordan', 'Jordn', 'Jor', 'LEB', 'LEBN', 'LEBANON'],\n",
       "      dtype=object)"
      ]
     },
     "execution_count": 365,
     "metadata": {},
     "output_type": "execute_result"
    }
   ],
   "source": [
    "sale_dataM['country_code'].unique()"
   ]
  },
  {
   "cell_type": "code",
   "execution_count": 366,
   "id": "c6a3d851",
   "metadata": {},
   "outputs": [
    {
     "data": {
      "text/html": [
       "<div>\n",
       "<style scoped>\n",
       "    .dataframe tbody tr th:only-of-type {\n",
       "        vertical-align: middle;\n",
       "    }\n",
       "\n",
       "    .dataframe tbody tr th {\n",
       "        vertical-align: top;\n",
       "    }\n",
       "\n",
       "    .dataframe thead th {\n",
       "        text-align: right;\n",
       "    }\n",
       "</style>\n",
       "<table border=\"1\" class=\"dataframe\">\n",
       "  <thead>\n",
       "    <tr style=\"text-align: right;\">\n",
       "      <th></th>\n",
       "      <th>order_id</th>\n",
       "      <th>date</th>\n",
       "      <th>customer_id</th>\n",
       "      <th>country_code</th>\n",
       "      <th>channel</th>\n",
       "      <th>sales_person</th>\n",
       "      <th>units_sold</th>\n",
       "      <th>unit_price</th>\n",
       "      <th>product_code</th>\n",
       "      <th>product</th>\n",
       "      <th>promotion_flag</th>\n",
       "      <th>commission_percent</th>\n",
       "      <th>country</th>\n",
       "    </tr>\n",
       "  </thead>\n",
       "  <tbody>\n",
       "    <tr>\n",
       "      <th>9145</th>\n",
       "      <td>ORD0008480</td>\n",
       "      <td>2023-09-17</td>\n",
       "      <td>CUSTL00499</td>\n",
       "      <td>LEBN</td>\n",
       "      <td>online</td>\n",
       "      <td>sami</td>\n",
       "      <td>4</td>\n",
       "      <td>24.460000</td>\n",
       "      <td>E02</td>\n",
       "      <td>Mouse</td>\n",
       "      <td>0</td>\n",
       "      <td>0.05</td>\n",
       "      <td>Lebanon</td>\n",
       "    </tr>\n",
       "    <tr>\n",
       "      <th>9146</th>\n",
       "      <td>ORD0008481</td>\n",
       "      <td>2024-10-27</td>\n",
       "      <td>CUSTL00500</td>\n",
       "      <td>LEBANON</td>\n",
       "      <td>online</td>\n",
       "      <td>Ali</td>\n",
       "      <td>0</td>\n",
       "      <td>1379.238585</td>\n",
       "      <td>EB01</td>\n",
       "      <td>Laptop</td>\n",
       "      <td>0</td>\n",
       "      <td>0.05</td>\n",
       "      <td>Lebanon</td>\n",
       "    </tr>\n",
       "  </tbody>\n",
       "</table>\n",
       "</div>"
      ],
      "text/plain": [
       "        order_id       date customer_id country_code channel sales_person  \\\n",
       "9145  ORD0008480 2023-09-17  CUSTL00499         LEBN  online         sami   \n",
       "9146  ORD0008481 2024-10-27  CUSTL00500      LEBANON  online          Ali   \n",
       "\n",
       "      units_sold   unit_price product_code product  promotion_flag  \\\n",
       "9145           4    24.460000          E02   Mouse               0   \n",
       "9146           0  1379.238585         EB01  Laptop               0   \n",
       "\n",
       "      commission_percent  country  \n",
       "9145                0.05  Lebanon  \n",
       "9146                0.05  Lebanon  "
      ]
     },
     "execution_count": 366,
     "metadata": {},
     "output_type": "execute_result"
    }
   ],
   "source": [
    "#Standardized country codes\n",
    "\n",
    "country_map={'JO': 'Jordan', 'Jor': 'Jordan', \n",
    "             'Jordn':'Jordan','Jordan':'Jordan',\n",
    "'LEB': 'Lebanon', 'LEBN': 'Lebanon','LEBANON':'Lebanon'}\n",
    "\n",
    "sale_dataM['country']= sale_dataM['country_code'].map(country_map)\n",
    "sale_dataM.tail(2)"
   ]
  },
  {
   "cell_type": "markdown",
   "id": "7c248bb8",
   "metadata": {},
   "source": [
    "#Convert all prices to consistent currency (USD)\n"
   ]
  },
  {
   "cell_type": "code",
   "execution_count": 367,
   "id": "411e4388",
   "metadata": {},
   "outputs": [],
   "source": [
    "def convert_price(row):\n",
    "    if row['country'] == 'Jordan':\n",
    "        return row['unit_price'] * 1.41\n",
    "    elif row['country'] == 'Lebanon':\n",
    "        return row['unit_price']\n",
    "    else:\n",
    "        return None # ??\n",
    "\n",
    "sale_dataM['unit_price_usd'] = sale_dataM.apply(convert_price, axis=1)"
   ]
  },
  {
   "cell_type": "code",
   "execution_count": 368,
   "id": "8bfe324c",
   "metadata": {},
   "outputs": [
    {
     "data": {
      "text/html": [
       "<div>\n",
       "<style scoped>\n",
       "    .dataframe tbody tr th:only-of-type {\n",
       "        vertical-align: middle;\n",
       "    }\n",
       "\n",
       "    .dataframe tbody tr th {\n",
       "        vertical-align: top;\n",
       "    }\n",
       "\n",
       "    .dataframe thead th {\n",
       "        text-align: right;\n",
       "    }\n",
       "</style>\n",
       "<table border=\"1\" class=\"dataframe\">\n",
       "  <thead>\n",
       "    <tr style=\"text-align: right;\">\n",
       "      <th></th>\n",
       "      <th>order_id</th>\n",
       "      <th>date</th>\n",
       "      <th>customer_id</th>\n",
       "      <th>country_code</th>\n",
       "      <th>channel</th>\n",
       "      <th>sales_person</th>\n",
       "      <th>units_sold</th>\n",
       "      <th>unit_price</th>\n",
       "      <th>product_code</th>\n",
       "      <th>product</th>\n",
       "      <th>promotion_flag</th>\n",
       "      <th>commission_percent</th>\n",
       "      <th>country</th>\n",
       "      <th>unit_price_usd</th>\n",
       "    </tr>\n",
       "  </thead>\n",
       "  <tbody>\n",
       "    <tr>\n",
       "      <th>0</th>\n",
       "      <td>ORD0000001</td>\n",
       "      <td>2022-01-14</td>\n",
       "      <td>CUSTJ00001</td>\n",
       "      <td>JO</td>\n",
       "      <td>online</td>\n",
       "      <td>ahmed</td>\n",
       "      <td>1</td>\n",
       "      <td>925.33</td>\n",
       "      <td>EB01</td>\n",
       "      <td>Laptop</td>\n",
       "      <td>0</td>\n",
       "      <td>0.03</td>\n",
       "      <td>Jordan</td>\n",
       "      <td>1304.7153</td>\n",
       "    </tr>\n",
       "    <tr>\n",
       "      <th>1</th>\n",
       "      <td>ORD0000002</td>\n",
       "      <td>2021-12-21</td>\n",
       "      <td>CUSTJ00002</td>\n",
       "      <td>JO</td>\n",
       "      <td>offline</td>\n",
       "      <td>Sara</td>\n",
       "      <td>5</td>\n",
       "      <td>161.18</td>\n",
       "      <td>EG02</td>\n",
       "      <td>Gaming Chair</td>\n",
       "      <td>0</td>\n",
       "      <td>0.05</td>\n",
       "      <td>Jordan</td>\n",
       "      <td>227.2638</td>\n",
       "    </tr>\n",
       "    <tr>\n",
       "      <th>2</th>\n",
       "      <td>ORD0000003</td>\n",
       "      <td>2021-12-10</td>\n",
       "      <td>CUSTJ00002</td>\n",
       "      <td>Jordan</td>\n",
       "      <td>offline</td>\n",
       "      <td>Ahmed</td>\n",
       "      <td>3</td>\n",
       "      <td>4.94</td>\n",
       "      <td>E05</td>\n",
       "      <td>Cable</td>\n",
       "      <td>0</td>\n",
       "      <td>0.05</td>\n",
       "      <td>Jordan</td>\n",
       "      <td>6.9654</td>\n",
       "    </tr>\n",
       "  </tbody>\n",
       "</table>\n",
       "</div>"
      ],
      "text/plain": [
       "     order_id       date customer_id country_code  channel sales_person  \\\n",
       "0  ORD0000001 2022-01-14  CUSTJ00001           JO   online        ahmed   \n",
       "1  ORD0000002 2021-12-21  CUSTJ00002           JO  offline         Sara   \n",
       "2  ORD0000003 2021-12-10  CUSTJ00002       Jordan  offline        Ahmed   \n",
       "\n",
       "   units_sold  unit_price product_code       product  promotion_flag  \\\n",
       "0           1      925.33         EB01        Laptop               0   \n",
       "1           5      161.18         EG02  Gaming Chair               0   \n",
       "2           3        4.94          E05         Cable               0   \n",
       "\n",
       "   commission_percent country  unit_price_usd  \n",
       "0                0.03  Jordan       1304.7153  \n",
       "1                0.05  Jordan        227.2638  \n",
       "2                0.05  Jordan          6.9654  "
      ]
     },
     "execution_count": 368,
     "metadata": {},
     "output_type": "execute_result"
    }
   ],
   "source": [
    "sale_dataM.head(3)"
   ]
  },
  {
   "cell_type": "markdown",
   "id": "ed29caf4",
   "metadata": {},
   "source": [
    "#Customer discount percentage\n"
   ]
  },
  {
   "cell_type": "code",
   "execution_count": 369,
   "id": "6c5b6c09",
   "metadata": {},
   "outputs": [
    {
     "data": {
      "text/html": [
       "<div>\n",
       "<style scoped>\n",
       "    .dataframe tbody tr th:only-of-type {\n",
       "        vertical-align: middle;\n",
       "    }\n",
       "\n",
       "    .dataframe tbody tr th {\n",
       "        vertical-align: top;\n",
       "    }\n",
       "\n",
       "    .dataframe thead th {\n",
       "        text-align: right;\n",
       "    }\n",
       "</style>\n",
       "<table border=\"1\" class=\"dataframe\">\n",
       "  <thead>\n",
       "    <tr style=\"text-align: right;\">\n",
       "      <th></th>\n",
       "      <th>discount_pct</th>\n",
       "    </tr>\n",
       "  </thead>\n",
       "  <tbody>\n",
       "    <tr>\n",
       "      <th>0</th>\n",
       "      <td>0</td>\n",
       "    </tr>\n",
       "    <tr>\n",
       "      <th>1</th>\n",
       "      <td>0</td>\n",
       "    </tr>\n",
       "    <tr>\n",
       "      <th>2</th>\n",
       "      <td>0</td>\n",
       "    </tr>\n",
       "    <tr>\n",
       "      <th>3</th>\n",
       "      <td>0</td>\n",
       "    </tr>\n",
       "    <tr>\n",
       "      <th>4</th>\n",
       "      <td>0</td>\n",
       "    </tr>\n",
       "    <tr>\n",
       "      <th>...</th>\n",
       "      <td>...</td>\n",
       "    </tr>\n",
       "    <tr>\n",
       "      <th>9142</th>\n",
       "      <td>0</td>\n",
       "    </tr>\n",
       "    <tr>\n",
       "      <th>9143</th>\n",
       "      <td>0</td>\n",
       "    </tr>\n",
       "    <tr>\n",
       "      <th>9144</th>\n",
       "      <td>0</td>\n",
       "    </tr>\n",
       "    <tr>\n",
       "      <th>9145</th>\n",
       "      <td>0</td>\n",
       "    </tr>\n",
       "    <tr>\n",
       "      <th>9146</th>\n",
       "      <td>0</td>\n",
       "    </tr>\n",
       "  </tbody>\n",
       "</table>\n",
       "<p>9147 rows × 1 columns</p>\n",
       "</div>"
      ],
      "text/plain": [
       "      discount_pct\n",
       "0                0\n",
       "1                0\n",
       "2                0\n",
       "3                0\n",
       "4                0\n",
       "...            ...\n",
       "9142             0\n",
       "9143             0\n",
       "9144             0\n",
       "9145             0\n",
       "9146             0\n",
       "\n",
       "[9147 rows x 1 columns]"
      ]
     },
     "execution_count": 369,
     "metadata": {},
     "output_type": "execute_result"
    }
   ],
   "source": [
    "sale_dataM['discount_pct'] = sale_dataM['units_sold'].apply(lambda x: 10 if x > 5 else 0)\n",
    "\n",
    "sale_dataM[['discount_pct']]"
   ]
  },
  {
   "cell_type": "markdown",
   "id": "324ec871",
   "metadata": {},
   "source": [
    "Total product value after discount"
   ]
  },
  {
   "cell_type": "code",
   "execution_count": 370,
   "id": "70151933",
   "metadata": {},
   "outputs": [
    {
     "data": {
      "text/html": [
       "<div>\n",
       "<style scoped>\n",
       "    .dataframe tbody tr th:only-of-type {\n",
       "        vertical-align: middle;\n",
       "    }\n",
       "\n",
       "    .dataframe tbody tr th {\n",
       "        vertical-align: top;\n",
       "    }\n",
       "\n",
       "    .dataframe thead th {\n",
       "        text-align: right;\n",
       "    }\n",
       "</style>\n",
       "<table border=\"1\" class=\"dataframe\">\n",
       "  <thead>\n",
       "    <tr style=\"text-align: right;\">\n",
       "      <th></th>\n",
       "      <th>total_amount</th>\n",
       "    </tr>\n",
       "  </thead>\n",
       "  <tbody>\n",
       "    <tr>\n",
       "      <th>0</th>\n",
       "      <td>1304.7153</td>\n",
       "    </tr>\n",
       "    <tr>\n",
       "      <th>1</th>\n",
       "      <td>1136.3190</td>\n",
       "    </tr>\n",
       "    <tr>\n",
       "      <th>2</th>\n",
       "      <td>20.8962</td>\n",
       "    </tr>\n",
       "    <tr>\n",
       "      <th>3</th>\n",
       "      <td>216.6183</td>\n",
       "    </tr>\n",
       "    <tr>\n",
       "      <th>4</th>\n",
       "      <td>672.8238</td>\n",
       "    </tr>\n",
       "    <tr>\n",
       "      <th>...</th>\n",
       "      <td>...</td>\n",
       "    </tr>\n",
       "    <tr>\n",
       "      <th>9142</th>\n",
       "      <td>258.8700</td>\n",
       "    </tr>\n",
       "    <tr>\n",
       "      <th>9143</th>\n",
       "      <td>882.8400</td>\n",
       "    </tr>\n",
       "    <tr>\n",
       "      <th>9144</th>\n",
       "      <td>463.8200</td>\n",
       "    </tr>\n",
       "    <tr>\n",
       "      <th>9145</th>\n",
       "      <td>97.8400</td>\n",
       "    </tr>\n",
       "    <tr>\n",
       "      <th>9146</th>\n",
       "      <td>0.0000</td>\n",
       "    </tr>\n",
       "  </tbody>\n",
       "</table>\n",
       "<p>9147 rows × 1 columns</p>\n",
       "</div>"
      ],
      "text/plain": [
       "      total_amount\n",
       "0        1304.7153\n",
       "1        1136.3190\n",
       "2          20.8962\n",
       "3         216.6183\n",
       "4         672.8238\n",
       "...            ...\n",
       "9142      258.8700\n",
       "9143      882.8400\n",
       "9144      463.8200\n",
       "9145       97.8400\n",
       "9146        0.0000\n",
       "\n",
       "[9147 rows x 1 columns]"
      ]
     },
     "execution_count": 370,
     "metadata": {},
     "output_type": "execute_result"
    }
   ],
   "source": [
    "sale_dataM['total_amount'] = (\n",
    "    sale_dataM['units_sold'] \n",
    "    * sale_dataM['unit_price_usd'] \n",
    "    * (1 - sale_dataM['discount_pct'] / 100)\n",
    ")\n",
    "\n",
    "sale_dataM[['total_amount']]"
   ]
  },
  {
   "cell_type": "markdown",
   "id": "667bcd34",
   "metadata": {},
   "source": [
    "Sales commission earned"
   ]
  },
  {
   "cell_type": "code",
   "execution_count": 371,
   "id": "0a63897a",
   "metadata": {},
   "outputs": [
    {
     "data": {
      "text/html": [
       "<div>\n",
       "<style scoped>\n",
       "    .dataframe tbody tr th:only-of-type {\n",
       "        vertical-align: middle;\n",
       "    }\n",
       "\n",
       "    .dataframe tbody tr th {\n",
       "        vertical-align: top;\n",
       "    }\n",
       "\n",
       "    .dataframe thead th {\n",
       "        text-align: right;\n",
       "    }\n",
       "</style>\n",
       "<table border=\"1\" class=\"dataframe\">\n",
       "  <thead>\n",
       "    <tr style=\"text-align: right;\">\n",
       "      <th></th>\n",
       "      <th>commission_amount</th>\n",
       "    </tr>\n",
       "  </thead>\n",
       "  <tbody>\n",
       "    <tr>\n",
       "      <th>0</th>\n",
       "      <td>39.141459</td>\n",
       "    </tr>\n",
       "    <tr>\n",
       "      <th>1</th>\n",
       "      <td>56.815950</td>\n",
       "    </tr>\n",
       "    <tr>\n",
       "      <th>2</th>\n",
       "      <td>1.044810</td>\n",
       "    </tr>\n",
       "    <tr>\n",
       "      <th>3</th>\n",
       "      <td>4.332366</td>\n",
       "    </tr>\n",
       "    <tr>\n",
       "      <th>4</th>\n",
       "      <td>33.641190</td>\n",
       "    </tr>\n",
       "    <tr>\n",
       "      <th>...</th>\n",
       "      <td>...</td>\n",
       "    </tr>\n",
       "    <tr>\n",
       "      <th>9142</th>\n",
       "      <td>7.766100</td>\n",
       "    </tr>\n",
       "    <tr>\n",
       "      <th>9143</th>\n",
       "      <td>44.142000</td>\n",
       "    </tr>\n",
       "    <tr>\n",
       "      <th>9144</th>\n",
       "      <td>23.191000</td>\n",
       "    </tr>\n",
       "    <tr>\n",
       "      <th>9145</th>\n",
       "      <td>4.892000</td>\n",
       "    </tr>\n",
       "    <tr>\n",
       "      <th>9146</th>\n",
       "      <td>0.000000</td>\n",
       "    </tr>\n",
       "  </tbody>\n",
       "</table>\n",
       "<p>9147 rows × 1 columns</p>\n",
       "</div>"
      ],
      "text/plain": [
       "      commission_amount\n",
       "0             39.141459\n",
       "1             56.815950\n",
       "2              1.044810\n",
       "3              4.332366\n",
       "4             33.641190\n",
       "...                 ...\n",
       "9142           7.766100\n",
       "9143          44.142000\n",
       "9144          23.191000\n",
       "9145           4.892000\n",
       "9146           0.000000\n",
       "\n",
       "[9147 rows x 1 columns]"
      ]
     },
     "execution_count": 371,
     "metadata": {},
     "output_type": "execute_result"
    }
   ],
   "source": [
    "sale_dataM['commission_amount'] = sale_dataM['total_amount'] * (sale_dataM['commission_percent'] )\n",
    "sale_dataM[['commission_amount']]"
   ]
  },
  {
   "cell_type": "markdown",
   "id": "97a1adfb",
   "metadata": {},
   "source": [
    "Date components"
   ]
  },
  {
   "cell_type": "code",
   "execution_count": 372,
   "id": "8f9c11e5",
   "metadata": {},
   "outputs": [
    {
     "data": {
      "text/html": [
       "<div>\n",
       "<style scoped>\n",
       "    .dataframe tbody tr th:only-of-type {\n",
       "        vertical-align: middle;\n",
       "    }\n",
       "\n",
       "    .dataframe tbody tr th {\n",
       "        vertical-align: top;\n",
       "    }\n",
       "\n",
       "    .dataframe thead th {\n",
       "        text-align: right;\n",
       "    }\n",
       "</style>\n",
       "<table border=\"1\" class=\"dataframe\">\n",
       "  <thead>\n",
       "    <tr style=\"text-align: right;\">\n",
       "      <th></th>\n",
       "      <th>order_id</th>\n",
       "      <th>date</th>\n",
       "      <th>customer_id</th>\n",
       "      <th>country_code</th>\n",
       "      <th>channel</th>\n",
       "      <th>sales_person</th>\n",
       "      <th>units_sold</th>\n",
       "      <th>unit_price</th>\n",
       "      <th>product_code</th>\n",
       "      <th>product</th>\n",
       "      <th>promotion_flag</th>\n",
       "      <th>commission_percent</th>\n",
       "      <th>country</th>\n",
       "      <th>unit_price_usd</th>\n",
       "      <th>discount_pct</th>\n",
       "      <th>total_amount</th>\n",
       "      <th>commission_amount</th>\n",
       "      <th>year</th>\n",
       "      <th>month</th>\n",
       "      <th>weekday_name</th>\n",
       "    </tr>\n",
       "  </thead>\n",
       "  <tbody>\n",
       "    <tr>\n",
       "      <th>0</th>\n",
       "      <td>ORD0000001</td>\n",
       "      <td>2022-01-14</td>\n",
       "      <td>CUSTJ00001</td>\n",
       "      <td>JO</td>\n",
       "      <td>online</td>\n",
       "      <td>ahmed</td>\n",
       "      <td>1</td>\n",
       "      <td>925.33</td>\n",
       "      <td>EB01</td>\n",
       "      <td>Laptop</td>\n",
       "      <td>0</td>\n",
       "      <td>0.03</td>\n",
       "      <td>Jordan</td>\n",
       "      <td>1304.7153</td>\n",
       "      <td>0</td>\n",
       "      <td>1304.7153</td>\n",
       "      <td>39.141459</td>\n",
       "      <td>2022</td>\n",
       "      <td>1</td>\n",
       "      <td>Friday</td>\n",
       "    </tr>\n",
       "    <tr>\n",
       "      <th>1</th>\n",
       "      <td>ORD0000002</td>\n",
       "      <td>2021-12-21</td>\n",
       "      <td>CUSTJ00002</td>\n",
       "      <td>JO</td>\n",
       "      <td>offline</td>\n",
       "      <td>Sara</td>\n",
       "      <td>5</td>\n",
       "      <td>161.18</td>\n",
       "      <td>EG02</td>\n",
       "      <td>Gaming Chair</td>\n",
       "      <td>0</td>\n",
       "      <td>0.05</td>\n",
       "      <td>Jordan</td>\n",
       "      <td>227.2638</td>\n",
       "      <td>0</td>\n",
       "      <td>1136.3190</td>\n",
       "      <td>56.815950</td>\n",
       "      <td>2021</td>\n",
       "      <td>12</td>\n",
       "      <td>Tuesday</td>\n",
       "    </tr>\n",
       "    <tr>\n",
       "      <th>2</th>\n",
       "      <td>ORD0000003</td>\n",
       "      <td>2021-12-10</td>\n",
       "      <td>CUSTJ00002</td>\n",
       "      <td>Jordan</td>\n",
       "      <td>offline</td>\n",
       "      <td>Ahmed</td>\n",
       "      <td>3</td>\n",
       "      <td>4.94</td>\n",
       "      <td>E05</td>\n",
       "      <td>Cable</td>\n",
       "      <td>0</td>\n",
       "      <td>0.05</td>\n",
       "      <td>Jordan</td>\n",
       "      <td>6.9654</td>\n",
       "      <td>0</td>\n",
       "      <td>20.8962</td>\n",
       "      <td>1.044810</td>\n",
       "      <td>2021</td>\n",
       "      <td>12</td>\n",
       "      <td>Friday</td>\n",
       "    </tr>\n",
       "    <tr>\n",
       "      <th>3</th>\n",
       "      <td>ORD0000004</td>\n",
       "      <td>2022-02-21</td>\n",
       "      <td>CUSTJ00002</td>\n",
       "      <td>Jordn</td>\n",
       "      <td>online</td>\n",
       "      <td>Ahmed</td>\n",
       "      <td>3</td>\n",
       "      <td>51.21</td>\n",
       "      <td>EG03</td>\n",
       "      <td>Headset</td>\n",
       "      <td>0</td>\n",
       "      <td>0.02</td>\n",
       "      <td>Jordan</td>\n",
       "      <td>72.2061</td>\n",
       "      <td>0</td>\n",
       "      <td>216.6183</td>\n",
       "      <td>4.332366</td>\n",
       "      <td>2022</td>\n",
       "      <td>2</td>\n",
       "      <td>Monday</td>\n",
       "    </tr>\n",
       "    <tr>\n",
       "      <th>4</th>\n",
       "      <td>ORD0000005</td>\n",
       "      <td>2021-01-14</td>\n",
       "      <td>CUSTJ00002</td>\n",
       "      <td>Jordn</td>\n",
       "      <td>online</td>\n",
       "      <td>rami</td>\n",
       "      <td>2</td>\n",
       "      <td>238.59</td>\n",
       "      <td>P02</td>\n",
       "      <td>Tablet</td>\n",
       "      <td>0</td>\n",
       "      <td>0.05</td>\n",
       "      <td>Jordan</td>\n",
       "      <td>336.4119</td>\n",
       "      <td>0</td>\n",
       "      <td>672.8238</td>\n",
       "      <td>33.641190</td>\n",
       "      <td>2021</td>\n",
       "      <td>1</td>\n",
       "      <td>Thursday</td>\n",
       "    </tr>\n",
       "    <tr>\n",
       "      <th>5</th>\n",
       "      <td>ORD0000006</td>\n",
       "      <td>2025-05-19</td>\n",
       "      <td>CUSTJ00002</td>\n",
       "      <td>Jordn</td>\n",
       "      <td>online</td>\n",
       "      <td>Ahmed</td>\n",
       "      <td>3</td>\n",
       "      <td>48.64</td>\n",
       "      <td>EG03</td>\n",
       "      <td>Headset</td>\n",
       "      <td>0</td>\n",
       "      <td>0.02</td>\n",
       "      <td>Jordan</td>\n",
       "      <td>68.5824</td>\n",
       "      <td>0</td>\n",
       "      <td>205.7472</td>\n",
       "      <td>4.114944</td>\n",
       "      <td>2025</td>\n",
       "      <td>5</td>\n",
       "      <td>Monday</td>\n",
       "    </tr>\n",
       "    <tr>\n",
       "      <th>6</th>\n",
       "      <td>ORD0000007</td>\n",
       "      <td>2022-09-18</td>\n",
       "      <td>CUSTJ00002</td>\n",
       "      <td>Jordan</td>\n",
       "      <td>offline</td>\n",
       "      <td>Ahmed</td>\n",
       "      <td>4</td>\n",
       "      <td>5.79</td>\n",
       "      <td>E05</td>\n",
       "      <td>Cable</td>\n",
       "      <td>0</td>\n",
       "      <td>0.03</td>\n",
       "      <td>Jordan</td>\n",
       "      <td>8.1639</td>\n",
       "      <td>0</td>\n",
       "      <td>32.6556</td>\n",
       "      <td>0.979668</td>\n",
       "      <td>2022</td>\n",
       "      <td>9</td>\n",
       "      <td>Sunday</td>\n",
       "    </tr>\n",
       "    <tr>\n",
       "      <th>7</th>\n",
       "      <td>ORD0000008</td>\n",
       "      <td>2021-05-29</td>\n",
       "      <td>CUSTJ00002</td>\n",
       "      <td>Jordan</td>\n",
       "      <td>online</td>\n",
       "      <td>ahmed</td>\n",
       "      <td>4</td>\n",
       "      <td>6.25</td>\n",
       "      <td>E05</td>\n",
       "      <td>Cable</td>\n",
       "      <td>0</td>\n",
       "      <td>0.03</td>\n",
       "      <td>Jordan</td>\n",
       "      <td>8.8125</td>\n",
       "      <td>0</td>\n",
       "      <td>35.2500</td>\n",
       "      <td>1.057500</td>\n",
       "      <td>2021</td>\n",
       "      <td>5</td>\n",
       "      <td>Saturday</td>\n",
       "    </tr>\n",
       "    <tr>\n",
       "      <th>8</th>\n",
       "      <td>ORD0000009</td>\n",
       "      <td>2021-08-05</td>\n",
       "      <td>CUSTJ00002</td>\n",
       "      <td>JO</td>\n",
       "      <td>offline</td>\n",
       "      <td>Sara</td>\n",
       "      <td>2</td>\n",
       "      <td>5.72</td>\n",
       "      <td>E05</td>\n",
       "      <td>Cable</td>\n",
       "      <td>0</td>\n",
       "      <td>0.02</td>\n",
       "      <td>Jordan</td>\n",
       "      <td>8.0652</td>\n",
       "      <td>0</td>\n",
       "      <td>16.1304</td>\n",
       "      <td>0.322608</td>\n",
       "      <td>2021</td>\n",
       "      <td>8</td>\n",
       "      <td>Thursday</td>\n",
       "    </tr>\n",
       "    <tr>\n",
       "      <th>9</th>\n",
       "      <td>ORD0000010</td>\n",
       "      <td>2021-03-11</td>\n",
       "      <td>CUSTJ00002</td>\n",
       "      <td>JO</td>\n",
       "      <td>offline</td>\n",
       "      <td>Rami</td>\n",
       "      <td>3</td>\n",
       "      <td>157.18</td>\n",
       "      <td>EG02</td>\n",
       "      <td>Gaming Chair</td>\n",
       "      <td>0</td>\n",
       "      <td>0.05</td>\n",
       "      <td>Jordan</td>\n",
       "      <td>221.6238</td>\n",
       "      <td>0</td>\n",
       "      <td>664.8714</td>\n",
       "      <td>33.243570</td>\n",
       "      <td>2021</td>\n",
       "      <td>3</td>\n",
       "      <td>Thursday</td>\n",
       "    </tr>\n",
       "    <tr>\n",
       "      <th>10</th>\n",
       "      <td>ORD0000011</td>\n",
       "      <td>2021-07-10</td>\n",
       "      <td>CUSTJ00003</td>\n",
       "      <td>Jor</td>\n",
       "      <td>online</td>\n",
       "      <td>ahmed</td>\n",
       "      <td>2</td>\n",
       "      <td>1029.50</td>\n",
       "      <td>EB01</td>\n",
       "      <td>Laptop</td>\n",
       "      <td>0</td>\n",
       "      <td>0.05</td>\n",
       "      <td>Jordan</td>\n",
       "      <td>1451.5950</td>\n",
       "      <td>0</td>\n",
       "      <td>2903.1900</td>\n",
       "      <td>145.159500</td>\n",
       "      <td>2021</td>\n",
       "      <td>7</td>\n",
       "      <td>Saturday</td>\n",
       "    </tr>\n",
       "    <tr>\n",
       "      <th>11</th>\n",
       "      <td>ORD0000012</td>\n",
       "      <td>2024-04-25</td>\n",
       "      <td>CUSTJ00004</td>\n",
       "      <td>JO</td>\n",
       "      <td>online</td>\n",
       "      <td>ahmed</td>\n",
       "      <td>4</td>\n",
       "      <td>419.42</td>\n",
       "      <td>P01</td>\n",
       "      <td>Phone</td>\n",
       "      <td>0</td>\n",
       "      <td>0.03</td>\n",
       "      <td>Jordan</td>\n",
       "      <td>591.3822</td>\n",
       "      <td>0</td>\n",
       "      <td>2365.5288</td>\n",
       "      <td>70.965864</td>\n",
       "      <td>2024</td>\n",
       "      <td>4</td>\n",
       "      <td>Thursday</td>\n",
       "    </tr>\n",
       "    <tr>\n",
       "      <th>12</th>\n",
       "      <td>ORD0000013</td>\n",
       "      <td>2022-08-21</td>\n",
       "      <td>CUSTJ00004</td>\n",
       "      <td>JO</td>\n",
       "      <td>offline</td>\n",
       "      <td>ahmed</td>\n",
       "      <td>3</td>\n",
       "      <td>148.36</td>\n",
       "      <td>EG02</td>\n",
       "      <td>Gaming Chair</td>\n",
       "      <td>0</td>\n",
       "      <td>0.03</td>\n",
       "      <td>Jordan</td>\n",
       "      <td>209.1876</td>\n",
       "      <td>0</td>\n",
       "      <td>627.5628</td>\n",
       "      <td>18.826884</td>\n",
       "      <td>2022</td>\n",
       "      <td>8</td>\n",
       "      <td>Sunday</td>\n",
       "    </tr>\n",
       "    <tr>\n",
       "      <th>13</th>\n",
       "      <td>ORD0000014</td>\n",
       "      <td>2021-01-23</td>\n",
       "      <td>CUSTJ00004</td>\n",
       "      <td>Jordan</td>\n",
       "      <td>online</td>\n",
       "      <td>ahmed</td>\n",
       "      <td>4</td>\n",
       "      <td>88.64</td>\n",
       "      <td>F02</td>\n",
       "      <td>Chair</td>\n",
       "      <td>0</td>\n",
       "      <td>0.03</td>\n",
       "      <td>Jordan</td>\n",
       "      <td>124.9824</td>\n",
       "      <td>0</td>\n",
       "      <td>499.9296</td>\n",
       "      <td>14.997888</td>\n",
       "      <td>2021</td>\n",
       "      <td>1</td>\n",
       "      <td>Saturday</td>\n",
       "    </tr>\n",
       "    <tr>\n",
       "      <th>14</th>\n",
       "      <td>ORD0000015</td>\n",
       "      <td>2025-05-22</td>\n",
       "      <td>CUSTJ00004</td>\n",
       "      <td>JO</td>\n",
       "      <td>online</td>\n",
       "      <td>rami</td>\n",
       "      <td>5</td>\n",
       "      <td>32.01</td>\n",
       "      <td>E04</td>\n",
       "      <td>Keyboard</td>\n",
       "      <td>0</td>\n",
       "      <td>0.02</td>\n",
       "      <td>Jordan</td>\n",
       "      <td>45.1341</td>\n",
       "      <td>0</td>\n",
       "      <td>225.6705</td>\n",
       "      <td>4.513410</td>\n",
       "      <td>2025</td>\n",
       "      <td>5</td>\n",
       "      <td>Thursday</td>\n",
       "    </tr>\n",
       "    <tr>\n",
       "      <th>15</th>\n",
       "      <td>ORD0000016</td>\n",
       "      <td>2025-01-31</td>\n",
       "      <td>CUSTJ00004</td>\n",
       "      <td>JO</td>\n",
       "      <td>offline</td>\n",
       "      <td>Ahmed</td>\n",
       "      <td>1</td>\n",
       "      <td>76.49</td>\n",
       "      <td>F02</td>\n",
       "      <td>Chair</td>\n",
       "      <td>0</td>\n",
       "      <td>0.05</td>\n",
       "      <td>Jordan</td>\n",
       "      <td>107.8509</td>\n",
       "      <td>0</td>\n",
       "      <td>107.8509</td>\n",
       "      <td>5.392545</td>\n",
       "      <td>2025</td>\n",
       "      <td>1</td>\n",
       "      <td>Friday</td>\n",
       "    </tr>\n",
       "    <tr>\n",
       "      <th>16</th>\n",
       "      <td>ORD0000017</td>\n",
       "      <td>2022-12-01</td>\n",
       "      <td>CUSTJ00004</td>\n",
       "      <td>Jordn</td>\n",
       "      <td>offline</td>\n",
       "      <td>Ahmed</td>\n",
       "      <td>3</td>\n",
       "      <td>400.49</td>\n",
       "      <td>P01</td>\n",
       "      <td>Phone</td>\n",
       "      <td>0</td>\n",
       "      <td>0.03</td>\n",
       "      <td>Jordan</td>\n",
       "      <td>564.6909</td>\n",
       "      <td>0</td>\n",
       "      <td>1694.0727</td>\n",
       "      <td>50.822181</td>\n",
       "      <td>2022</td>\n",
       "      <td>12</td>\n",
       "      <td>Thursday</td>\n",
       "    </tr>\n",
       "    <tr>\n",
       "      <th>17</th>\n",
       "      <td>ORD0000018</td>\n",
       "      <td>2021-08-21</td>\n",
       "      <td>CUSTJ00004</td>\n",
       "      <td>Jor</td>\n",
       "      <td>online</td>\n",
       "      <td>ali</td>\n",
       "      <td>1</td>\n",
       "      <td>23.69</td>\n",
       "      <td>A01</td>\n",
       "      <td>Accessory</td>\n",
       "      <td>0</td>\n",
       "      <td>0.05</td>\n",
       "      <td>Jordan</td>\n",
       "      <td>33.4029</td>\n",
       "      <td>0</td>\n",
       "      <td>33.4029</td>\n",
       "      <td>1.670145</td>\n",
       "      <td>2021</td>\n",
       "      <td>8</td>\n",
       "      <td>Saturday</td>\n",
       "    </tr>\n",
       "    <tr>\n",
       "      <th>18</th>\n",
       "      <td>ORD0000019</td>\n",
       "      <td>2022-04-07</td>\n",
       "      <td>CUSTJ00004</td>\n",
       "      <td>Jordan</td>\n",
       "      <td>online</td>\n",
       "      <td>Rami</td>\n",
       "      <td>5</td>\n",
       "      <td>249.77</td>\n",
       "      <td>P02</td>\n",
       "      <td>Tablet</td>\n",
       "      <td>0</td>\n",
       "      <td>0.02</td>\n",
       "      <td>Jordan</td>\n",
       "      <td>352.1757</td>\n",
       "      <td>0</td>\n",
       "      <td>1760.8785</td>\n",
       "      <td>35.217570</td>\n",
       "      <td>2022</td>\n",
       "      <td>4</td>\n",
       "      <td>Thursday</td>\n",
       "    </tr>\n",
       "    <tr>\n",
       "      <th>19</th>\n",
       "      <td>ORD0000020</td>\n",
       "      <td>2022-08-08</td>\n",
       "      <td>CUSTJ00004</td>\n",
       "      <td>Jordan</td>\n",
       "      <td>online</td>\n",
       "      <td>ahmed</td>\n",
       "      <td>1</td>\n",
       "      <td>17.09</td>\n",
       "      <td>E02</td>\n",
       "      <td>Mouse</td>\n",
       "      <td>0</td>\n",
       "      <td>0.03</td>\n",
       "      <td>Jordan</td>\n",
       "      <td>24.0969</td>\n",
       "      <td>0</td>\n",
       "      <td>24.0969</td>\n",
       "      <td>0.722907</td>\n",
       "      <td>2022</td>\n",
       "      <td>8</td>\n",
       "      <td>Monday</td>\n",
       "    </tr>\n",
       "    <tr>\n",
       "      <th>20</th>\n",
       "      <td>ORD0000021</td>\n",
       "      <td>2022-05-09</td>\n",
       "      <td>CUSTJ00005</td>\n",
       "      <td>Jor</td>\n",
       "      <td>offline</td>\n",
       "      <td>ali</td>\n",
       "      <td>4</td>\n",
       "      <td>439.10</td>\n",
       "      <td>P01</td>\n",
       "      <td>Phone</td>\n",
       "      <td>0</td>\n",
       "      <td>0.05</td>\n",
       "      <td>Jordan</td>\n",
       "      <td>619.1310</td>\n",
       "      <td>0</td>\n",
       "      <td>2476.5240</td>\n",
       "      <td>123.826200</td>\n",
       "      <td>2022</td>\n",
       "      <td>5</td>\n",
       "      <td>Monday</td>\n",
       "    </tr>\n",
       "    <tr>\n",
       "      <th>21</th>\n",
       "      <td>ORD0000022</td>\n",
       "      <td>2022-11-01</td>\n",
       "      <td>CUSTJ00006</td>\n",
       "      <td>JO</td>\n",
       "      <td>online</td>\n",
       "      <td>Sara</td>\n",
       "      <td>3</td>\n",
       "      <td>412.91</td>\n",
       "      <td>P01</td>\n",
       "      <td>Phone</td>\n",
       "      <td>0</td>\n",
       "      <td>0.03</td>\n",
       "      <td>Jordan</td>\n",
       "      <td>582.2031</td>\n",
       "      <td>0</td>\n",
       "      <td>1746.6093</td>\n",
       "      <td>52.398279</td>\n",
       "      <td>2022</td>\n",
       "      <td>11</td>\n",
       "      <td>Tuesday</td>\n",
       "    </tr>\n",
       "  </tbody>\n",
       "</table>\n",
       "</div>"
      ],
      "text/plain": [
       "      order_id       date customer_id country_code  channel sales_person  \\\n",
       "0   ORD0000001 2022-01-14  CUSTJ00001           JO   online        ahmed   \n",
       "1   ORD0000002 2021-12-21  CUSTJ00002           JO  offline         Sara   \n",
       "2   ORD0000003 2021-12-10  CUSTJ00002       Jordan  offline        Ahmed   \n",
       "3   ORD0000004 2022-02-21  CUSTJ00002        Jordn   online        Ahmed   \n",
       "4   ORD0000005 2021-01-14  CUSTJ00002        Jordn   online         rami   \n",
       "5   ORD0000006 2025-05-19  CUSTJ00002        Jordn   online        Ahmed   \n",
       "6   ORD0000007 2022-09-18  CUSTJ00002       Jordan  offline        Ahmed   \n",
       "7   ORD0000008 2021-05-29  CUSTJ00002       Jordan   online        ahmed   \n",
       "8   ORD0000009 2021-08-05  CUSTJ00002           JO  offline         Sara   \n",
       "9   ORD0000010 2021-03-11  CUSTJ00002           JO  offline         Rami   \n",
       "10  ORD0000011 2021-07-10  CUSTJ00003          Jor   online        ahmed   \n",
       "11  ORD0000012 2024-04-25  CUSTJ00004           JO   online        ahmed   \n",
       "12  ORD0000013 2022-08-21  CUSTJ00004           JO  offline        ahmed   \n",
       "13  ORD0000014 2021-01-23  CUSTJ00004       Jordan   online        ahmed   \n",
       "14  ORD0000015 2025-05-22  CUSTJ00004           JO   online         rami   \n",
       "15  ORD0000016 2025-01-31  CUSTJ00004           JO  offline        Ahmed   \n",
       "16  ORD0000017 2022-12-01  CUSTJ00004        Jordn  offline        Ahmed   \n",
       "17  ORD0000018 2021-08-21  CUSTJ00004          Jor   online          ali   \n",
       "18  ORD0000019 2022-04-07  CUSTJ00004       Jordan   online         Rami   \n",
       "19  ORD0000020 2022-08-08  CUSTJ00004       Jordan   online        ahmed   \n",
       "20  ORD0000021 2022-05-09  CUSTJ00005          Jor  offline          ali   \n",
       "21  ORD0000022 2022-11-01  CUSTJ00006           JO   online         Sara   \n",
       "\n",
       "    units_sold  unit_price product_code       product  promotion_flag  \\\n",
       "0            1      925.33         EB01        Laptop               0   \n",
       "1            5      161.18         EG02  Gaming Chair               0   \n",
       "2            3        4.94          E05         Cable               0   \n",
       "3            3       51.21         EG03       Headset               0   \n",
       "4            2      238.59          P02        Tablet               0   \n",
       "5            3       48.64         EG03       Headset               0   \n",
       "6            4        5.79          E05         Cable               0   \n",
       "7            4        6.25          E05         Cable               0   \n",
       "8            2        5.72          E05         Cable               0   \n",
       "9            3      157.18         EG02  Gaming Chair               0   \n",
       "10           2     1029.50         EB01        Laptop               0   \n",
       "11           4      419.42          P01         Phone               0   \n",
       "12           3      148.36         EG02  Gaming Chair               0   \n",
       "13           4       88.64          F02         Chair               0   \n",
       "14           5       32.01          E04      Keyboard               0   \n",
       "15           1       76.49          F02         Chair               0   \n",
       "16           3      400.49          P01         Phone               0   \n",
       "17           1       23.69          A01     Accessory               0   \n",
       "18           5      249.77          P02        Tablet               0   \n",
       "19           1       17.09          E02         Mouse               0   \n",
       "20           4      439.10          P01         Phone               0   \n",
       "21           3      412.91          P01         Phone               0   \n",
       "\n",
       "    commission_percent country  unit_price_usd  discount_pct  total_amount  \\\n",
       "0                 0.03  Jordan       1304.7153             0     1304.7153   \n",
       "1                 0.05  Jordan        227.2638             0     1136.3190   \n",
       "2                 0.05  Jordan          6.9654             0       20.8962   \n",
       "3                 0.02  Jordan         72.2061             0      216.6183   \n",
       "4                 0.05  Jordan        336.4119             0      672.8238   \n",
       "5                 0.02  Jordan         68.5824             0      205.7472   \n",
       "6                 0.03  Jordan          8.1639             0       32.6556   \n",
       "7                 0.03  Jordan          8.8125             0       35.2500   \n",
       "8                 0.02  Jordan          8.0652             0       16.1304   \n",
       "9                 0.05  Jordan        221.6238             0      664.8714   \n",
       "10                0.05  Jordan       1451.5950             0     2903.1900   \n",
       "11                0.03  Jordan        591.3822             0     2365.5288   \n",
       "12                0.03  Jordan        209.1876             0      627.5628   \n",
       "13                0.03  Jordan        124.9824             0      499.9296   \n",
       "14                0.02  Jordan         45.1341             0      225.6705   \n",
       "15                0.05  Jordan        107.8509             0      107.8509   \n",
       "16                0.03  Jordan        564.6909             0     1694.0727   \n",
       "17                0.05  Jordan         33.4029             0       33.4029   \n",
       "18                0.02  Jordan        352.1757             0     1760.8785   \n",
       "19                0.03  Jordan         24.0969             0       24.0969   \n",
       "20                0.05  Jordan        619.1310             0     2476.5240   \n",
       "21                0.03  Jordan        582.2031             0     1746.6093   \n",
       "\n",
       "    commission_amount  year  month weekday_name  \n",
       "0           39.141459  2022      1       Friday  \n",
       "1           56.815950  2021     12      Tuesday  \n",
       "2            1.044810  2021     12       Friday  \n",
       "3            4.332366  2022      2       Monday  \n",
       "4           33.641190  2021      1     Thursday  \n",
       "5            4.114944  2025      5       Monday  \n",
       "6            0.979668  2022      9       Sunday  \n",
       "7            1.057500  2021      5     Saturday  \n",
       "8            0.322608  2021      8     Thursday  \n",
       "9           33.243570  2021      3     Thursday  \n",
       "10         145.159500  2021      7     Saturday  \n",
       "11          70.965864  2024      4     Thursday  \n",
       "12          18.826884  2022      8       Sunday  \n",
       "13          14.997888  2021      1     Saturday  \n",
       "14           4.513410  2025      5     Thursday  \n",
       "15           5.392545  2025      1       Friday  \n",
       "16          50.822181  2022     12     Thursday  \n",
       "17           1.670145  2021      8     Saturday  \n",
       "18          35.217570  2022      4     Thursday  \n",
       "19           0.722907  2022      8       Monday  \n",
       "20         123.826200  2022      5       Monday  \n",
       "21          52.398279  2022     11      Tuesday  "
      ]
     },
     "execution_count": 372,
     "metadata": {},
     "output_type": "execute_result"
    }
   ],
   "source": [
    "sale_dataM['year'] = sale_dataM['date'].dt.year\n",
    "sale_dataM['month'] = sale_dataM['date'].dt.month\n",
    "sale_dataM['weekday_name'] = sale_dataM['date'].dt.day_name()\n",
    "sale_dataM.head(22)"
   ]
  },
  {
   "cell_type": "markdown",
   "id": "96f9bf9d",
   "metadata": {},
   "source": [
    "sales_volume_category"
   ]
  },
  {
   "cell_type": "code",
   "execution_count": 373,
   "id": "35833ee9",
   "metadata": {},
   "outputs": [
    {
     "data": {
      "text/html": [
       "<div>\n",
       "<style scoped>\n",
       "    .dataframe tbody tr th:only-of-type {\n",
       "        vertical-align: middle;\n",
       "    }\n",
       "\n",
       "    .dataframe tbody tr th {\n",
       "        vertical-align: top;\n",
       "    }\n",
       "\n",
       "    .dataframe thead th {\n",
       "        text-align: right;\n",
       "    }\n",
       "</style>\n",
       "<table border=\"1\" class=\"dataframe\">\n",
       "  <thead>\n",
       "    <tr style=\"text-align: right;\">\n",
       "      <th></th>\n",
       "      <th>sales_volume_category</th>\n",
       "    </tr>\n",
       "  </thead>\n",
       "  <tbody>\n",
       "    <tr>\n",
       "      <th>0</th>\n",
       "      <td>Low</td>\n",
       "    </tr>\n",
       "    <tr>\n",
       "      <th>1</th>\n",
       "      <td>High</td>\n",
       "    </tr>\n",
       "    <tr>\n",
       "      <th>2</th>\n",
       "      <td>Medium</td>\n",
       "    </tr>\n",
       "    <tr>\n",
       "      <th>3</th>\n",
       "      <td>Medium</td>\n",
       "    </tr>\n",
       "    <tr>\n",
       "      <th>4</th>\n",
       "      <td>Low</td>\n",
       "    </tr>\n",
       "    <tr>\n",
       "      <th>...</th>\n",
       "      <td>...</td>\n",
       "    </tr>\n",
       "    <tr>\n",
       "      <th>9142</th>\n",
       "      <td>Low</td>\n",
       "    </tr>\n",
       "    <tr>\n",
       "      <th>9143</th>\n",
       "      <td>Medium</td>\n",
       "    </tr>\n",
       "    <tr>\n",
       "      <th>9144</th>\n",
       "      <td>Low</td>\n",
       "    </tr>\n",
       "    <tr>\n",
       "      <th>9145</th>\n",
       "      <td>Medium</td>\n",
       "    </tr>\n",
       "    <tr>\n",
       "      <th>9146</th>\n",
       "      <td>Low</td>\n",
       "    </tr>\n",
       "  </tbody>\n",
       "</table>\n",
       "<p>9147 rows × 1 columns</p>\n",
       "</div>"
      ],
      "text/plain": [
       "     sales_volume_category\n",
       "0                      Low\n",
       "1                     High\n",
       "2                   Medium\n",
       "3                   Medium\n",
       "4                      Low\n",
       "...                    ...\n",
       "9142                   Low\n",
       "9143                Medium\n",
       "9144                   Low\n",
       "9145                Medium\n",
       "9146                   Low\n",
       "\n",
       "[9147 rows x 1 columns]"
      ]
     },
     "execution_count": 373,
     "metadata": {},
     "output_type": "execute_result"
    }
   ],
   "source": [
    "sale_dataM['sales_volume_category'] = sale_dataM['units_sold'].apply(\n",
    "    lambda x: 'High' if x >= 5 else ('Medium' if 3 <= x <= 4 else 'Low')\n",
    ")\n",
    "sale_dataM[['sales_volume_category']]"
   ]
  },
  {
   "cell_type": "markdown",
   "id": "11d130cd",
   "metadata": {},
   "source": [
    "Customer loyalty tier"
   ]
  },
  {
   "cell_type": "code",
   "execution_count": 374,
   "id": "9bcdefed",
   "metadata": {},
   "outputs": [
    {
     "data": {
      "text/html": [
       "<div>\n",
       "<style scoped>\n",
       "    .dataframe tbody tr th:only-of-type {\n",
       "        vertical-align: middle;\n",
       "    }\n",
       "\n",
       "    .dataframe tbody tr th {\n",
       "        vertical-align: top;\n",
       "    }\n",
       "\n",
       "    .dataframe thead th {\n",
       "        text-align: right;\n",
       "    }\n",
       "</style>\n",
       "<table border=\"1\" class=\"dataframe\">\n",
       "  <thead>\n",
       "    <tr style=\"text-align: right;\">\n",
       "      <th></th>\n",
       "      <th>customer_id</th>\n",
       "      <th>total_orders</th>\n",
       "      <th>customer_segment</th>\n",
       "    </tr>\n",
       "  </thead>\n",
       "  <tbody>\n",
       "    <tr>\n",
       "      <th>0</th>\n",
       "      <td>CUSTJ00001</td>\n",
       "      <td>1</td>\n",
       "      <td>One-time</td>\n",
       "    </tr>\n",
       "    <tr>\n",
       "      <th>1</th>\n",
       "      <td>CUSTJ00002</td>\n",
       "      <td>9</td>\n",
       "      <td>Standard</td>\n",
       "    </tr>\n",
       "    <tr>\n",
       "      <th>2</th>\n",
       "      <td>CUSTJ00002</td>\n",
       "      <td>9</td>\n",
       "      <td>Standard</td>\n",
       "    </tr>\n",
       "    <tr>\n",
       "      <th>3</th>\n",
       "      <td>CUSTJ00002</td>\n",
       "      <td>9</td>\n",
       "      <td>Standard</td>\n",
       "    </tr>\n",
       "    <tr>\n",
       "      <th>4</th>\n",
       "      <td>CUSTJ00002</td>\n",
       "      <td>9</td>\n",
       "      <td>Standard</td>\n",
       "    </tr>\n",
       "  </tbody>\n",
       "</table>\n",
       "</div>"
      ],
      "text/plain": [
       "  customer_id  total_orders customer_segment\n",
       "0  CUSTJ00001             1         One-time\n",
       "1  CUSTJ00002             9         Standard\n",
       "2  CUSTJ00002             9         Standard\n",
       "3  CUSTJ00002             9         Standard\n",
       "4  CUSTJ00002             9         Standard"
      ]
     },
     "execution_count": 374,
     "metadata": {},
     "output_type": "execute_result"
    }
   ],
   "source": [
    "customer_orders = sale_dataM.groupby('customer_id')['order_id'].nunique()\n",
    "\n",
    "sale_dataM['total_orders'] = sale_dataM['customer_id'].map(customer_orders)\n",
    "\n",
    "sale_dataM['customer_segment'] = sale_dataM['total_orders'].apply(\n",
    "    lambda x: 'Loyal' if x >= 50 else ('Premium' if 10 <= x <= 49 else ('Standard' if 2 <= x <= 9 else 'One-time'))\n",
    ")\n",
    "\n",
    "sale_dataM[['customer_id', 'total_orders', 'customer_segment']].head()"
   ]
  },
  {
   "cell_type": "markdown",
   "id": "db18c8e0",
   "metadata": {},
   "source": [
    "Business Questions "
   ]
  },
  {
   "cell_type": "code",
   "execution_count": 375,
   "id": "ee910fda",
   "metadata": {},
   "outputs": [
    {
     "name": "stdout",
     "output_type": "stream",
     "text": [
      "1- How many transactions occurred in each sales channel?\n"
     ]
    },
    {
     "data": {
      "text/plain": [
       "channel\n",
       "online     6513\n",
       "offline    2629\n",
       "Name: count, dtype: int64"
      ]
     },
     "execution_count": 375,
     "metadata": {},
     "output_type": "execute_result"
    }
   ],
   "source": [
    "print(\"1- How many transactions occurred in each sales channel?\") \n",
    "sale_dataM['channel'].value_counts()"
   ]
  },
  {
   "cell_type": "code",
   "execution_count": 376,
   "id": "94332e42",
   "metadata": {},
   "outputs": [
    {
     "data": {
      "image/png": "[encoded data removed]",
      "text/plain": [
       "<Figure size 700x700 with 1 Axes>"
      ]
     },
     "metadata": {},
     "output_type": "display_data"
    }
   ],
   "source": [
    "\n",
    "transactions_per_channel = sale_dataM.groupby('channel')['order_id'].nunique().sort_values(ascending=False)\n",
    "\n",
    "plt.figure(figsize=(7,7))\n",
    "plt.pie(transactions_per_channel, labels=transactions_per_channel.index,\n",
    "        autopct='%1.1f%%', startangle=90, colors=plt.cm.Paired.colors)\n",
    "plt.title(\"Number of Transactions per Sales Channel\")\n",
    "plt.axis('equal')\n",
    "plt.show()\n",
    "\n"
   ]
  },
  {
   "cell_type": "code",
   "execution_count": 377,
   "id": "00a5b88a",
   "metadata": {},
   "outputs": [
    {
     "name": "stdout",
     "output_type": "stream",
     "text": [
      "2- How many transactions involve each product? \n"
     ]
    },
    {
     "data": {
      "text/plain": [
       "product_code\n",
       "E04     1154\n",
       "F02      989\n",
       "EG02     871\n",
       "E05      793\n",
       "EG03     789\n",
       "P02      783\n",
       "M01      773\n",
       "P01      772\n",
       "E02      765\n",
       "A01      764\n",
       "EB01     694\n",
       "Name: count, dtype: int64"
      ]
     },
     "execution_count": 377,
     "metadata": {},
     "output_type": "execute_result"
    }
   ],
   "source": [
    "print(\"2- How many transactions involve each product? \") \n",
    "sale_dataM['product_code'].value_counts()\n"
   ]
  },
  {
   "cell_type": "code",
   "execution_count": 378,
   "id": "f520f2cf",
   "metadata": {},
   "outputs": [
    {
     "name": "stdout",
     "output_type": "stream",
     "text": [
      "3- What is the average (mean) unit price across all products?\n"
     ]
    },
    {
     "data": {
      "text/plain": [
       "209.97501531601017"
      ]
     },
     "execution_count": 378,
     "metadata": {},
     "output_type": "execute_result"
    }
   ],
   "source": [
    "print(\"3- What is the average (mean) unit price across all products?\") \n",
    "sale_dataM['unit_price'].mean()"
   ]
  },
  {
   "cell_type": "code",
   "execution_count": 379,
   "id": "6aa5cabd",
   "metadata": {},
   "outputs": [
    {
     "name": "stdout",
     "output_type": "stream",
     "text": [
      "4- What is the maximum number of units sold in a single transaction?\n"
     ]
    },
    {
     "data": {
      "text/plain": [
       "10"
      ]
     },
     "execution_count": 379,
     "metadata": {},
     "output_type": "execute_result"
    }
   ],
   "source": [
    "print('4- What is the maximum number of units sold in a single transaction?')\n",
    "sale_dataM['units_sold'].max()"
   ]
  },
  {
   "cell_type": "code",
   "execution_count": 380,
   "id": "0f68e152",
   "metadata": {},
   "outputs": [
    {
     "name": "stdout",
     "output_type": "stream",
     "text": [
      "5- What is the minimum unit price in the dataset?\n"
     ]
    },
    {
     "data": {
      "text/plain": [
       "4.41"
      ]
     },
     "execution_count": 380,
     "metadata": {},
     "output_type": "execute_result"
    }
   ],
   "source": [
    "print('5- What is the minimum unit price in the dataset?')\n",
    "sale_dataM['unit_price'].min()"
   ]
  },
  {
   "cell_type": "code",
   "execution_count": 381,
   "id": "637383dc",
   "metadata": {},
   "outputs": [
    {
     "name": "stdout",
     "output_type": "stream",
     "text": [
      "6- How many sales transactions had a discount?\n"
     ]
    },
    {
     "data": {
      "text/plain": [
       "126"
      ]
     },
     "execution_count": 381,
     "metadata": {},
     "output_type": "execute_result"
    }
   ],
   "source": [
    "print('6- How many sales transactions had a discount?')\n",
    "(sale_dataM['discount_pct']>0).sum()"
   ]
  },
  {
   "cell_type": "code",
   "execution_count": 382,
   "id": "278127b7",
   "metadata": {},
   "outputs": [
    {
     "name": "stdout",
     "output_type": "stream",
     "text": [
      "7- How many unique orders are there?\n"
     ]
    },
    {
     "data": {
      "text/plain": [
       "8481"
      ]
     },
     "execution_count": 382,
     "metadata": {},
     "output_type": "execute_result"
    }
   ],
   "source": [
    "print('7- How many unique orders are there?')\n",
    "sale_dataM['order_id'].nunique()\n"
   ]
  },
  {
   "cell_type": "code",
   "execution_count": 383,
   "id": "eda6c389",
   "metadata": {},
   "outputs": [
    {
     "name": "stdout",
     "output_type": "stream",
     "text": [
      "8- How many customers in each segment?\n",
      "customer_segment\n",
      "One-time    500\n",
      "Standard    350\n",
      "Premium     100\n",
      "Loyal        50\n",
      "Name: count, dtype: int64\n"
     ]
    }
   ],
   "source": [
    "print('8- How many customers in each segment?')\n",
    "\n",
    "unique_customers = sale_dataM[['customer_id', 'customer_segment']].drop_duplicates()\n",
    "segment_counts = unique_customers['customer_segment'].value_counts()\n",
    "print(segment_counts)\n"
   ]
  },
  {
   "cell_type": "code",
   "execution_count": 384,
   "id": "acbaa9e8",
   "metadata": {},
   "outputs": [
    {
     "data": {
      "image/png": "[encoded data removed]",
      "text/plain": [
       "<Figure size 800x500 with 1 Axes>"
      ]
     },
     "metadata": {},
     "output_type": "display_data"
    }
   ],
   "source": [
    "plt.figure(figsize=(8,5))\n",
    "sns.barplot(x=segment_counts.index, y=segment_counts.values, palette=\"viridis\")\n",
    "plt.title(\"Number of Customers per Segment\")\n",
    "plt.xlabel(\"Customer Segment\")\n",
    "plt.ylabel(\"Number of Customers\")\n",
    "plt.show()"
   ]
  },
  {
   "cell_type": "code",
   "execution_count": 385,
   "id": "71664fc3",
   "metadata": {},
   "outputs": [
    {
     "name": "stdout",
     "output_type": "stream",
     "text": [
      "9- In 2024, which day of the week had the highest sales amount?\n"
     ]
    },
    {
     "data": {
      "text/plain": [
       "'Tuesday'"
      ]
     },
     "execution_count": 385,
     "metadata": {},
     "output_type": "execute_result"
    }
   ],
   "source": [
    "print('9- In 2024, which day of the week had the highest sales amount?')\n",
    "sale_dataM_2024 = sale_dataM[sale_dataM['date'].dt.year == 2024]\n",
    "sales_per_day = sale_dataM_2024.groupby('weekday_name')['total_amount'].sum()\n",
    "top_day = sales_per_day.idxmax()\n",
    "top_day\n"
   ]
  },
  {
   "cell_type": "code",
   "execution_count": 386,
   "id": "6aa229ee",
   "metadata": {},
   "outputs": [
    {
     "data": {
      "image/png": "[encoded data removed]",
      "text/plain": [
       "<Figure size 800x500 with 1 Axes>"
      ]
     },
     "metadata": {},
     "output_type": "display_data"
    }
   ],
   "source": [
    "plt.figure(figsize=(8,5))\n",
    "\n",
    "sns.barplot(\n",
    "    x=sales_per_day.index,\n",
    "    y=sales_per_day.values,\n",
    "    palette=\"Set2\"  \n",
    ")\n",
    "\n",
    "plt.title(\"Total Sales Amount per Weekday in 2024\")\n",
    "plt.xlabel(\"Weekday\")\n",
    "plt.ylabel(\"Total Sales Amount\")\n",
    "plt.xticks(rotation=45)\n",
    "plt.show()"
   ]
  },
  {
   "cell_type": "markdown",
   "id": "67586104",
   "metadata": {},
   "source": [
    "10- Identify all sales in 2024 from Jordan where the sales volume is categorized as 'High' and the products sold were not 'Gaming Chair', 'Keyboard', 'Monitor', 'Tablet', 'Chair'"
   ]
  },
  {
   "cell_type": "code",
   "execution_count": 387,
   "id": "8ffd0424",
   "metadata": {},
   "outputs": [
    {
     "name": "stdout",
     "output_type": "stream",
     "text": [
      "10-How many sales transactions are there?\n"
     ]
    },
    {
     "data": {
      "text/plain": [
       "69"
      ]
     },
     "execution_count": 387,
     "metadata": {},
     "output_type": "execute_result"
    }
   ],
   "source": [
    "\n",
    "excluded_product = ['Gaming Chair', 'Keyboard', 'Monitor', 'Tablet', 'Chair']\n",
    "filtered_sales = sale_dataM[\n",
    "    (sale_dataM['date'].dt.year == 2024) &\n",
    "    (sale_dataM['country'] == 'Jordan') &\n",
    "    (sale_dataM['sales_volume_category'] == 'High') &\n",
    "    (~sale_dataM['product'].isin(excluded_product))\n",
    "]\n",
    "print('10-How many sales transactions are there?')\n",
    "total_trans = filtered_sales.shape[0]\n",
    "total_trans"
   ]
  },
  {
   "cell_type": "code",
   "execution_count": 388,
   "id": "3e64550d",
   "metadata": {},
   "outputs": [
    {
     "name": "stdout",
     "output_type": "stream",
     "text": [
      "10-How many sales transactions with ‘Premium’ customer segment?\n"
     ]
    },
    {
     "data": {
      "text/plain": [
       "26"
      ]
     },
     "execution_count": 388,
     "metadata": {},
     "output_type": "execute_result"
    }
   ],
   "source": [
    "print('10-How many sales transactions with ‘Premium’ customer segment?')\n",
    "prem_trans= filtered_sales[filtered_sales['customer_segment'] == 'Premium'].shape[0]\n",
    "prem_trans"
   ]
  },
  {
   "cell_type": "markdown",
   "id": "844b2e36",
   "metadata": {},
   "source": [
    "11- The company is considering closing one of its sales channels in one country due to high operating costs. Using the data, which country and channel combination has the lowest number of transactions, and might be the best candidate for closure?"
   ]
  },
  {
   "cell_type": "code",
   "execution_count": 389,
   "id": "e3e5e65f",
   "metadata": {},
   "outputs": [
    {
     "name": "stdout",
     "output_type": "stream",
     "text": [
      "Country & channel with lowest transactions: ('Lebanon', 'offline')\n",
      "Number of transactions: 466\n"
     ]
    }
   ],
   "source": [
    "summary= sale_dataM.groupby(['country', 'channel']).size()\n",
    "\n",
    "lowest_trans= summary.idxmin()\n",
    "lowest_count= summary.min()\n",
    "\n",
    "print(\"Country & channel with lowest transactions:\", lowest_trans)\n",
    "print(\"Number of transactions:\", lowest_count)\n"
   ]
  },
  {
   "cell_type": "code",
   "execution_count": 390,
   "id": "3533c611",
   "metadata": {},
   "outputs": [
    {
     "name": "stdout",
     "output_type": "stream",
     "text": [
      "12-a identify the dominant sector among the loyal customer segment:\n",
      "Dominant sector : university\n"
     ]
    }
   ],
   "source": [
    "print('12-a identify the dominant sector among the loyal customer segment:')\n",
    "merged_sa_cust = pd.merge(sale_dataM, customers[['customer_id', 'sector', 'city']], on='customer_id', how='left')\n",
    "loyal_sector = merged_sa_cust[merged_sa_cust['customer_segment']=='Loyal']['sector'].value_counts()\n",
    "print(\"Dominant sector :\", loyal_sector.index[0])"
   ]
  },
  {
   "cell_type": "code",
   "execution_count": 391,
   "id": "b9c270df",
   "metadata": {},
   "outputs": [
    {
     "name": "stdout",
     "output_type": "stream",
     "text": [
      "12-b Which city has the highest total sales volume (units sold) in Jordan via the online channel? \n",
      "city\n",
      "Amman     1626\n",
      "Irbid      975\n",
      "Aqaba      199\n",
      "Madaba     124\n",
      "Karak      122\n",
      "Zarqa       83\n",
      "Name: units_sold, dtype: int64\n"
     ]
    }
   ],
   "source": [
    "print('12-b Which city has the highest total sales volume (units sold) in Jordan via the online channel? ')\n",
    "jordan_online = merged_sa_cust[\n",
    "    (merged_sa_cust['country_code']=='Jordan') &\n",
    "    (merged_sa_cust['channel']=='online')\n",
    "]\n",
    "\n",
    "city_sales = jordan_online.groupby('city')['units_sold'].sum()\n",
    "city_sorted = city_sales.sort_values(ascending=False)\n",
    "print(city_sorted)\n"
   ]
  },
  {
   "cell_type": "markdown",
   "id": "6c3f57af",
   "metadata": {},
   "source": [
    "13- Which products are most frequently sold together in the same order? List the top product pairs and how many times they occurred together?"
   ]
  },
  {
   "cell_type": "code",
   "execution_count": null,
   "id": "5cf60e35",
   "metadata": {},
   "outputs": [
    {
     "name": "stdout",
     "output_type": "stream",
     "text": [
      "Top product pairs sold together:\n",
      "('Keyboard', 'Mouse') : 383\n",
      "('Laptop', 'Chair') : 182\n",
      "('Headset', 'Gaming Chair') : 101\n"
     ]
    }
   ],
   "source": [
    "\n",
    "order_prod = sale_dataM.groupby('order_id')['product'].apply(list)\n",
    "\n",
    "pair_counter = Counter()\n",
    "\n",
    "for products in orders_products:\n",
    "    unique_products = set(products)\n",
    "    pairs = combinations(unique_products, 2)\n",
    "    pair_counter.update(pairs)\n",
    "    top_pairs = pair_counter.most_common(10)\n",
    "print(\"Top product pairs sold together:\")\n",
    "for pair, count in top_pairs:\n",
    "    print(pair, \":\", count)\n"
   ]
  },
  {
   "cell_type": "code",
   "execution_count": 393,
   "id": "858351f7",
   "metadata": {},
   "outputs": [
    {
     "data": {
      "application/vnd.plotly.v1+json": {
       "config": {
        "plotlyServerURL": "https://plot.ly"
       },
       "data": [
        {
         "alignmentgroup": "True",
         "hovertemplate": "Count=%{marker.color}<br>Product Pair=%{y}<extra></extra>",
         "legendgroup": "",
         "marker": {
          "color": [
           101,
           182,
           383
          ],
          "coloraxis": "coloraxis",
          "pattern": {
           "shape": ""
          }
         },
         "name": "",
         "offsetgroup": "",
         "orientation": "h",
         "showlegend": false,
         "text": [
          101,
          182,
          383
         ],
         "textposition": "outside",
         "type": "bar",
         "x": [
          101,
          182,
          383
         ],
         "xaxis": "x",
         "y": [
          "Headset & Gaming Chair",
          "Laptop & Chair",
          "Keyboard & Mouse"
         ],
         "yaxis": "y"
        }
       ],
       "layout": {
        "barmode": "relative",
        "coloraxis": {
         "colorbar": {
          "title": {
           "text": "Count"
          }
         },
         "colorscale": [
          [
           0,
           "#440154"
          ],
          [
           0.1111111111111111,
           "#482878"
          ],
          [
           0.2222222222222222,
           "#3e4989"
          ],
          [
           0.3333333333333333,
           "#31688e"
          ],
          [
           0.4444444444444444,
           "#26828e"
          ],
          [
           0.5555555555555556,
           "#1f9e89"
          ],
          [
           0.6666666666666666,
           "#35b779"
          ],
          [
           0.7777777777777778,
           "#6ece58"
          ],
          [
           0.8888888888888888,
           "#b5de2b"
          ],
          [
           1,
           "#fde725"
          ]
         ]
        },
        "legend": {
         "tracegroupgap": 0
        },
        "template": {
         "data": {
          "bar": [
           {
            "error_x": {
             "color": "#2a3f5f"
            },
            "error_y": {
             "color": "#2a3f5f"
            },
            "marker": {
             "line": {
              "color": "#E5ECF6",
              "width": 0.5
             },
             "pattern": {
              "fillmode": "overlay",
              "size": 10,
              "solidity": 0.2
             }
            },
            "type": "bar"
           }
          ],
          "barpolar": [
           {
            "marker": {
             "line": {
              "color": "#E5ECF6",
              "width": 0.5
             },
             "pattern": {
              "fillmode": "overlay",
              "size": 10,
              "solidity": 0.2
             }
            },
            "type": "barpolar"
           }
          ],
          "carpet": [
           {
            "aaxis": {
             "endlinecolor": "#2a3f5f",
             "gridcolor": "white",
             "linecolor": "white",
             "minorgridcolor": "white",
             "startlinecolor": "#2a3f5f"
            },
            "baxis": {
             "endlinecolor": "#2a3f5f",
             "gridcolor": "white",
             "linecolor": "white",
             "minorgridcolor": "white",
             "startlinecolor": "#2a3f5f"
            },
            "type": "carpet"
           }
          ],
          "choropleth": [
           {
            "colorbar": {
             "outlinewidth": 0,
             "ticks": ""
            },
            "type": "choropleth"
           }
          ],
          "contour": [
           {
            "colorbar": {
             "outlinewidth": 0,
             "ticks": ""
            },
            "colorscale": [
             [
              0,
              "#0d0887"
             ],
             [
              0.1111111111111111,
              "#46039f"
             ],
             [
              0.2222222222222222,
              "#7201a8"
             ],
             [
              0.3333333333333333,
              "#9c179e"
             ],
             [
              0.4444444444444444,
              "#bd3786"
             ],
             [
              0.5555555555555556,
              "#d8576b"
             ],
             [
              0.6666666666666666,
              "#ed7953"
             ],
             [
              0.7777777777777778,
              "#fb9f3a"
             ],
             [
              0.8888888888888888,
              "#fdca26"
             ],
             [
              1,
              "#f0f921"
             ]
            ],
            "type": "contour"
           }
          ],
          "contourcarpet": [
           {
            "colorbar": {
             "outlinewidth": 0,
             "ticks": ""
            },
            "type": "contourcarpet"
           }
          ],
          "heatmap": [
           {
            "colorbar": {
             "outlinewidth": 0,
             "ticks": ""
            },
            "colorscale": [
             [
              0,
              "#0d0887"
             ],
             [
              0.1111111111111111,
              "#46039f"
             ],
             [
              0.2222222222222222,
              "#7201a8"
             ],
             [
              0.3333333333333333,
              "#9c179e"
             ],
             [
              0.4444444444444444,
              "#bd3786"
             ],
             [
              0.5555555555555556,
              "#d8576b"
             ],
             [
              0.6666666666666666,
              "#ed7953"
             ],
             [
              0.7777777777777778,
              "#fb9f3a"
             ],
             [
              0.8888888888888888,
              "#fdca26"
             ],
             [
              1,
              "#f0f921"
             ]
            ],
            "type": "heatmap"
           }
          ],
          "heatmapgl": [
           {
            "colorbar": {
             "outlinewidth": 0,
             "ticks": ""
            },
            "colorscale": [
             [
              0,
              "#0d0887"
             ],
             [
              0.1111111111111111,
              "#46039f"
             ],
             [
              0.2222222222222222,
              "#7201a8"
             ],
             [
              0.3333333333333333,
              "#9c179e"
             ],
             [
              0.4444444444444444,
              "#bd3786"
             ],
             [
              0.5555555555555556,
              "#d8576b"
             ],
             [
              0.6666666666666666,
              "#ed7953"
             ],
             [
              0.7777777777777778,
              "#fb9f3a"
             ],
             [
              0.8888888888888888,
              "#fdca26"
             ],
             [
              1,
              "#f0f921"
             ]
            ],
            "type": "heatmapgl"
           }
          ],
          "histogram": [
           {
            "marker": {
             "pattern": {
              "fillmode": "overlay",
              "size": 10,
              "solidity": 0.2
             }
            },
            "type": "histogram"
           }
          ],
          "histogram2d": [
           {
            "colorbar": {
             "outlinewidth": 0,
             "ticks": ""
            },
            "colorscale": [
             [
              0,
              "#0d0887"
             ],
             [
              0.1111111111111111,
              "#46039f"
             ],
             [
              0.2222222222222222,
              "#7201a8"
             ],
             [
              0.3333333333333333,
              "#9c179e"
             ],
             [
              0.4444444444444444,
              "#bd3786"
             ],
             [
              0.5555555555555556,
              "#d8576b"
             ],
             [
              0.6666666666666666,
              "#ed7953"
             ],
             [
              0.7777777777777778,
              "#fb9f3a"
             ],
             [
              0.8888888888888888,
              "#fdca26"
             ],
             [
              1,
              "#f0f921"
             ]
            ],
            "type": "histogram2d"
           }
          ],
          "histogram2dcontour": [
           {
            "colorbar": {
             "outlinewidth": 0,
             "ticks": ""
            },
            "colorscale": [
             [
              0,
              "#0d0887"
             ],
             [
              0.1111111111111111,
              "#46039f"
             ],
             [
              0.2222222222222222,
              "#7201a8"
             ],
             [
              0.3333333333333333,
              "#9c179e"
             ],
             [
              0.4444444444444444,
              "#bd3786"
             ],
             [
              0.5555555555555556,
              "#d8576b"
             ],
             [
              0.6666666666666666,
              "#ed7953"
             ],
             [
              0.7777777777777778,
              "#fb9f3a"
             ],
             [
              0.8888888888888888,
              "#fdca26"
             ],
             [
              1,
              "#f0f921"
             ]
            ],
            "type": "histogram2dcontour"
           }
          ],
          "mesh3d": [
           {
            "colorbar": {
             "outlinewidth": 0,
             "ticks": ""
            },
            "type": "mesh3d"
           }
          ],
          "parcoords": [
           {
            "line": {
             "colorbar": {
              "outlinewidth": 0,
              "ticks": ""
             }
            },
            "type": "parcoords"
           }
          ],
          "pie": [
           {
            "automargin": true,
            "type": "pie"
           }
          ],
          "scatter": [
           {
            "fillpattern": {
             "fillmode": "overlay",
             "size": 10,
             "solidity": 0.2
            },
            "type": "scatter"
           }
          ],
          "scatter3d": [
           {
            "line": {
             "colorbar": {
              "outlinewidth": 0,
              "ticks": ""
             }
            },
            "marker": {
             "colorbar": {
              "outlinewidth": 0,
              "ticks": ""
             }
            },
            "type": "scatter3d"
           }
          ],
          "scattercarpet": [
           {
            "marker": {
             "colorbar": {
              "outlinewidth": 0,
              "ticks": ""
             }
            },
            "type": "scattercarpet"
           }
          ],
          "scattergeo": [
           {
            "marker": {
             "colorbar": {
              "outlinewidth": 0,
              "ticks": ""
             }
            },
            "type": "scattergeo"
           }
          ],
          "scattergl": [
           {
            "marker": {
             "colorbar": {
              "outlinewidth": 0,
              "ticks": ""
             }
            },
            "type": "scattergl"
           }
          ],
          "scattermapbox": [
           {
            "marker": {
             "colorbar": {
              "outlinewidth": 0,
              "ticks": ""
             }
            },
            "type": "scattermapbox"
           }
          ],
          "scatterpolar": [
           {
            "marker": {
             "colorbar": {
              "outlinewidth": 0,
              "ticks": ""
             }
            },
            "type": "scatterpolar"
           }
          ],
          "scatterpolargl": [
           {
            "marker": {
             "colorbar": {
              "outlinewidth": 0,
              "ticks": ""
             }
            },
            "type": "scatterpolargl"
           }
          ],
          "scatterternary": [
           {
            "marker": {
             "colorbar": {
              "outlinewidth": 0,
              "ticks": ""
             }
            },
            "type": "scatterternary"
           }
          ],
          "surface": [
           {
            "colorbar": {
             "outlinewidth": 0,
             "ticks": ""
            },
            "colorscale": [
             [
              0,
              "#0d0887"
             ],
             [
              0.1111111111111111,
              "#46039f"
             ],
             [
              0.2222222222222222,
              "#7201a8"
             ],
             [
              0.3333333333333333,
              "#9c179e"
             ],
             [
              0.4444444444444444,
              "#bd3786"
             ],
             [
              0.5555555555555556,
              "#d8576b"
             ],
             [
              0.6666666666666666,
              "#ed7953"
             ],
             [
              0.7777777777777778,
              "#fb9f3a"
             ],
             [
              0.8888888888888888,
              "#fdca26"
             ],
             [
              1,
              "#f0f921"
             ]
            ],
            "type": "surface"
           }
          ],
          "table": [
           {
            "cells": {
             "fill": {
              "color": "#EBF0F8"
             },
             "line": {
              "color": "white"
             }
            },
            "header": {
             "fill": {
              "color": "#C8D4E3"
             },
             "line": {
              "color": "white"
             }
            },
            "type": "table"
           }
          ]
         },
         "layout": {
          "annotationdefaults": {
           "arrowcolor": "#2a3f5f",
           "arrowhead": 0,
           "arrowwidth": 1
          },
          "autotypenumbers": "strict",
          "coloraxis": {
           "colorbar": {
            "outlinewidth": 0,
            "ticks": ""
           }
          },
          "colorscale": {
           "diverging": [
            [
             0,
             "#8e0152"
            ],
            [
             0.1,
             "#c51b7d"
            ],
            [
             0.2,
             "#de77ae"
            ],
            [
             0.3,
             "#f1b6da"
            ],
            [
             0.4,
             "#fde0ef"
            ],
            [
             0.5,
             "#f7f7f7"
            ],
            [
             0.6,
             "#e6f5d0"
            ],
            [
             0.7,
             "#b8e186"
            ],
            [
             0.8,
             "#7fbc41"
            ],
            [
             0.9,
             "#4d9221"
            ],
            [
             1,
             "#276419"
            ]
           ],
           "sequential": [
            [
             0,
             "#0d0887"
            ],
            [
             0.1111111111111111,
             "#46039f"
            ],
            [
             0.2222222222222222,
             "#7201a8"
            ],
            [
             0.3333333333333333,
             "#9c179e"
            ],
            [
             0.4444444444444444,
             "#bd3786"
            ],
            [
             0.5555555555555556,
             "#d8576b"
            ],
            [
             0.6666666666666666,
             "#ed7953"
            ],
            [
             0.7777777777777778,
             "#fb9f3a"
            ],
            [
             0.8888888888888888,
             "#fdca26"
            ],
            [
             1,
             "#f0f921"
            ]
           ],
           "sequentialminus": [
            [
             0,
             "#0d0887"
            ],
            [
             0.1111111111111111,
             "#46039f"
            ],
            [
             0.2222222222222222,
             "#7201a8"
            ],
            [
             0.3333333333333333,
             "#9c179e"
            ],
            [
             0.4444444444444444,
             "#bd3786"
            ],
            [
             0.5555555555555556,
             "#d8576b"
            ],
            [
             0.6666666666666666,
             "#ed7953"
            ],
            [
             0.7777777777777778,
             "#fb9f3a"
            ],
            [
             0.8888888888888888,
             "#fdca26"
            ],
            [
             1,
             "#f0f921"
            ]
           ]
          },
          "colorway": [
           "#636efa",
           "#EF553B",
           "#00cc96",
           "#ab63fa",
           "#FFA15A",
           "#19d3f3",
           "#FF6692",
           "#B6E880",
           "#FF97FF",
           "#FECB52"
          ],
          "font": {
           "color": "#2a3f5f"
          },
          "geo": {
           "bgcolor": "white",
           "lakecolor": "white",
           "landcolor": "#E5ECF6",
           "showlakes": true,
           "showland": true,
           "subunitcolor": "white"
          },
          "hoverlabel": {
           "align": "left"
          },
          "hovermode": "closest",
          "mapbox": {
           "style": "light"
          },
          "paper_bgcolor": "white",
          "plot_bgcolor": "#E5ECF6",
          "polar": {
           "angularaxis": {
            "gridcolor": "white",
            "linecolor": "white",
            "ticks": ""
           },
           "bgcolor": "#E5ECF6",
           "radialaxis": {
            "gridcolor": "white",
            "linecolor": "white",
            "ticks": ""
           }
          },
          "scene": {
           "xaxis": {
            "backgroundcolor": "#E5ECF6",
            "gridcolor": "white",
            "gridwidth": 2,
            "linecolor": "white",
            "showbackground": true,
            "ticks": "",
            "zerolinecolor": "white"
           },
           "yaxis": {
            "backgroundcolor": "#E5ECF6",
            "gridcolor": "white",
            "gridwidth": 2,
            "linecolor": "white",
            "showbackground": true,
            "ticks": "",
            "zerolinecolor": "white"
           },
           "zaxis": {
            "backgroundcolor": "#E5ECF6",
            "gridcolor": "white",
            "gridwidth": 2,
            "linecolor": "white",
            "showbackground": true,
            "ticks": "",
            "zerolinecolor": "white"
           }
          },
          "shapedefaults": {
           "line": {
            "color": "#2a3f5f"
           }
          },
          "ternary": {
           "aaxis": {
            "gridcolor": "white",
            "linecolor": "white",
            "ticks": ""
           },
           "baxis": {
            "gridcolor": "white",
            "linecolor": "white",
            "ticks": ""
           },
           "bgcolor": "#E5ECF6",
           "caxis": {
            "gridcolor": "white",
            "linecolor": "white",
            "ticks": ""
           }
          },
          "title": {
           "x": 0.05
          },
          "xaxis": {
           "automargin": true,
           "gridcolor": "white",
           "linecolor": "white",
           "ticks": "",
           "title": {
            "standoff": 15
           },
           "zerolinecolor": "white",
           "zerolinewidth": 2
          },
          "yaxis": {
           "automargin": true,
           "gridcolor": "white",
           "linecolor": "white",
           "ticks": "",
           "title": {
            "standoff": 15
           },
           "zerolinecolor": "white",
           "zerolinewidth": 2
          }
         }
        },
        "title": {
         "text": "Top 10 Product Pairs Sold Together"
        },
        "xaxis": {
         "anchor": "y",
         "domain": [
          0,
          1
         ],
         "title": {
          "text": "Count"
         }
        },
        "yaxis": {
         "anchor": "x",
         "categoryorder": "total ascending",
         "domain": [
          0,
          1
         ],
         "title": {
          "text": "Product Pair"
         }
        }
       }
      }
     },
     "metadata": {},
     "output_type": "display_data"
    }
   ],
   "source": [
    "\n",
    "order_prod = sale_dataM.groupby('order_id')['product'].apply(list)\n",
    "pair_counter = Counter()\n",
    "for products in order_prod:\n",
    "    unique_products = set(products)\n",
    "    pairs = combinations(unique_products, 2)\n",
    "    pair_counter.update(pairs)\n",
    "\n",
    "top_pairs = pair_counter.most_common(10)\n",
    "\n",
    "df_pairs = pd.DataFrame(top_pairs, columns=['Product Pair', 'Count'])\n",
    "df_pairs['Product Pair'] = df_pairs['Product Pair'].apply(lambda x: f\"{x[0]} & {x[1]}\")\n",
    "\n",
    "fig = px.bar(\n",
    "    df_pairs[::-1], \n",
    "    x='Count',\n",
    "    y='Product Pair',\n",
    "    orientation='h',\n",
    "    text='Count',\n",
    "    title='Top 10 Product Pairs Sold Together',\n",
    "    color='Count',\n",
    "    color_continuous_scale='Viridis'\n",
    ")\n",
    "\n",
    "fig.update_traces(textposition='outside')\n",
    "fig.update_layout(yaxis={'categoryorder':'total ascending'})\n",
    "fig.show()\n"
   ]
  },
  {
   "cell_type": "markdown",
   "id": "e6c2b4d5",
   "metadata": {},
   "source": [
    "15-Which day of the week shows the highest sales for each product category? Create a heatmap showing sales volume by product and weekday?"
   ]
  },
  {
   "cell_type": "code",
   "execution_count": 394,
   "id": "459f010e",
   "metadata": {},
   "outputs": [
    {
     "data": {
      "text/html": [
       "<div>\n",
       "<style scoped>\n",
       "    .dataframe tbody tr th:only-of-type {\n",
       "        vertical-align: middle;\n",
       "    }\n",
       "\n",
       "    .dataframe tbody tr th {\n",
       "        vertical-align: top;\n",
       "    }\n",
       "\n",
       "    .dataframe thead th {\n",
       "        text-align: right;\n",
       "    }\n",
       "</style>\n",
       "<table border=\"1\" class=\"dataframe\">\n",
       "  <thead>\n",
       "    <tr style=\"text-align: right;\">\n",
       "      <th></th>\n",
       "      <th>product</th>\n",
       "      <th>day</th>\n",
       "    </tr>\n",
       "  </thead>\n",
       "  <tbody>\n",
       "    <tr>\n",
       "      <th>0</th>\n",
       "      <td>Accessory</td>\n",
       "      <td>Thursday</td>\n",
       "    </tr>\n",
       "    <tr>\n",
       "      <th>1</th>\n",
       "      <td>Cable</td>\n",
       "      <td>Sunday</td>\n",
       "    </tr>\n",
       "    <tr>\n",
       "      <th>2</th>\n",
       "      <td>Chair</td>\n",
       "      <td>Saturday</td>\n",
       "    </tr>\n",
       "    <tr>\n",
       "      <th>3</th>\n",
       "      <td>Gaming Chair</td>\n",
       "      <td>Saturday</td>\n",
       "    </tr>\n",
       "    <tr>\n",
       "      <th>4</th>\n",
       "      <td>Headset</td>\n",
       "      <td>Saturday</td>\n",
       "    </tr>\n",
       "    <tr>\n",
       "      <th>5</th>\n",
       "      <td>Keyboard</td>\n",
       "      <td>Friday</td>\n",
       "    </tr>\n",
       "    <tr>\n",
       "      <th>6</th>\n",
       "      <td>Laptop</td>\n",
       "      <td>Tuesday</td>\n",
       "    </tr>\n",
       "    <tr>\n",
       "      <th>7</th>\n",
       "      <td>Monitor</td>\n",
       "      <td>Tuesday</td>\n",
       "    </tr>\n",
       "    <tr>\n",
       "      <th>8</th>\n",
       "      <td>Mouse</td>\n",
       "      <td>Tuesday</td>\n",
       "    </tr>\n",
       "    <tr>\n",
       "      <th>9</th>\n",
       "      <td>Phone</td>\n",
       "      <td>Tuesday</td>\n",
       "    </tr>\n",
       "    <tr>\n",
       "      <th>10</th>\n",
       "      <td>Tablet</td>\n",
       "      <td>Thursday</td>\n",
       "    </tr>\n",
       "  </tbody>\n",
       "</table>\n",
       "</div>"
      ],
      "text/plain": [
       "         product       day\n",
       "0      Accessory  Thursday\n",
       "1          Cable    Sunday\n",
       "2          Chair  Saturday\n",
       "3   Gaming Chair  Saturday\n",
       "4        Headset  Saturday\n",
       "5       Keyboard    Friday\n",
       "6         Laptop   Tuesday\n",
       "7        Monitor   Tuesday\n",
       "8          Mouse   Tuesday\n",
       "9          Phone   Tuesday\n",
       "10        Tablet  Thursday"
      ]
     },
     "execution_count": 394,
     "metadata": {},
     "output_type": "execute_result"
    }
   ],
   "source": [
    "sales_by_product_weekday = sale_dataM.groupby(['product','weekday_name'])['unit_price'].sum().unstack()\n",
    "highest_day_per_product = sales_by_product_weekday.idxmax(axis=1).reset_index(name =\"day\")\n",
    "highest_day_per_product"
   ]
  },
  {
   "cell_type": "code",
   "execution_count": 395,
   "id": "b7d04fb8",
   "metadata": {},
   "outputs": [
    {
     "data": {
      "image/png": "[encoded data removed]",
      "text/plain": [
       "<Figure size 1200x800 with 2 Axes>"
      ]
     },
     "metadata": {},
     "output_type": "display_data"
    }
   ],
   "source": [
    "plt.figure(figsize=(12,8))\n",
    "sns.heatmap(sales_by_product_weekday, annot=True, fmt=\".0f\", cmap=\"YlGnBu\")\n",
    "plt.title(\"Sales Volume by Product and Weekday\")\n",
    "plt.ylabel(\"Product\")\n",
    "plt.xlabel(\"Weekday\")\n",
    "plt.show()"
   ]
  },
  {
   "cell_type": "markdown",
   "id": "558e08c7",
   "metadata": {},
   "source": [
    "14- Compare weekday sales trends for Jordan vs. Lebanon. Which weekdays are most profitable in each country?"
   ]
  },
  {
   "cell_type": "code",
   "execution_count": 396,
   "id": "d9ff4274",
   "metadata": {},
   "outputs": [
    {
     "data": {
      "text/html": [
       "<div>\n",
       "<style scoped>\n",
       "    .dataframe tbody tr th:only-of-type {\n",
       "        vertical-align: middle;\n",
       "    }\n",
       "\n",
       "    .dataframe tbody tr th {\n",
       "        vertical-align: top;\n",
       "    }\n",
       "\n",
       "    .dataframe thead th {\n",
       "        text-align: right;\n",
       "    }\n",
       "</style>\n",
       "<table border=\"1\" class=\"dataframe\">\n",
       "  <thead>\n",
       "    <tr style=\"text-align: right;\">\n",
       "      <th></th>\n",
       "      <th>idxmax</th>\n",
       "      <th>max</th>\n",
       "    </tr>\n",
       "    <tr>\n",
       "      <th>country</th>\n",
       "      <th></th>\n",
       "      <th></th>\n",
       "    </tr>\n",
       "  </thead>\n",
       "  <tbody>\n",
       "    <tr>\n",
       "      <th>Jordan</th>\n",
       "      <td>Wednesday</td>\n",
       "      <td>1922</td>\n",
       "    </tr>\n",
       "    <tr>\n",
       "      <th>Lebanon</th>\n",
       "      <td>Saturday</td>\n",
       "      <td>1877</td>\n",
       "    </tr>\n",
       "  </tbody>\n",
       "</table>\n",
       "</div>"
      ],
      "text/plain": [
       "            idxmax   max\n",
       "country                 \n",
       "Jordan   Wednesday  1922\n",
       "Lebanon   Saturday  1877"
      ]
     },
     "execution_count": 396,
     "metadata": {},
     "output_type": "execute_result"
    }
   ],
   "source": [
    "summary = (\n",
    "    sale_dataM.groupby([\"country\",\"weekday_name\"])[\"units_sold\"]\n",
    "         .sum().unstack(fill_value=0).agg([\"idxmax\",\"max\"], axis=1))\n",
    "\n",
    "summary\n",
    "\n"
   ]
  },
  {
   "cell_type": "markdown",
   "id": "c9e636e6",
   "metadata": {},
   "source": [
    "15- Find the top-performing salesperson per year (2022, 2023, 2024) based on total sales amount Show their total sales amount for each year "
   ]
  },
  {
   "cell_type": "code",
   "execution_count": 397,
   "id": "7e7be3df",
   "metadata": {},
   "outputs": [
    {
     "data": {
      "text/html": [
       "<div>\n",
       "<style scoped>\n",
       "    .dataframe tbody tr th:only-of-type {\n",
       "        vertical-align: middle;\n",
       "    }\n",
       "\n",
       "    .dataframe tbody tr th {\n",
       "        vertical-align: top;\n",
       "    }\n",
       "\n",
       "    .dataframe thead th {\n",
       "        text-align: right;\n",
       "    }\n",
       "</style>\n",
       "<table border=\"1\" class=\"dataframe\">\n",
       "  <thead>\n",
       "    <tr style=\"text-align: right;\">\n",
       "      <th></th>\n",
       "      <th>year</th>\n",
       "      <th>sales_person</th>\n",
       "      <th>total_amount</th>\n",
       "    </tr>\n",
       "  </thead>\n",
       "  <tbody>\n",
       "    <tr>\n",
       "      <th>8</th>\n",
       "      <td>2022</td>\n",
       "      <td>lina</td>\n",
       "      <td>125568.673626</td>\n",
       "    </tr>\n",
       "    <tr>\n",
       "      <th>15</th>\n",
       "      <td>2023</td>\n",
       "      <td>Sami</td>\n",
       "      <td>134160.830673</td>\n",
       "    </tr>\n",
       "    <tr>\n",
       "      <th>22</th>\n",
       "      <td>2024</td>\n",
       "      <td>Ahmed</td>\n",
       "      <td>141840.001860</td>\n",
       "    </tr>\n",
       "  </tbody>\n",
       "</table>\n",
       "</div>"
      ],
      "text/plain": [
       "    year sales_person   total_amount\n",
       "8   2022         lina  125568.673626\n",
       "15  2023         Sami  134160.830673\n",
       "22  2024        Ahmed  141840.001860"
      ]
     },
     "execution_count": 397,
     "metadata": {},
     "output_type": "execute_result"
    }
   ],
   "source": [
    "filtered = sale_dataM[sale_dataM[\"year\"].isin([2022, 2023, 2024])]\n",
    "\n",
    "sales_year = (\n",
    "    filtered.groupby([\"year\", \"sales_person\"])[\"total_amount\"]\n",
    "            .sum()\n",
    "            .reset_index()\n",
    ")\n",
    "\n",
    "top = (\n",
    "    sales_year.sort_values([\"year\", \"total_amount\"], ascending=[True, False])\n",
    "                  .groupby(\"year\")\n",
    "                  .head(1)\n",
    ")\n",
    "\n",
    "top\n",
    "\n"
   ]
  },
  {
   "cell_type": "markdown",
   "id": "34373a6b",
   "metadata": {},
   "source": [
    "16- Which salesperson generated the highest commission over the period? Who generated the least?"
   ]
  },
  {
   "cell_type": "code",
   "execution_count": 398,
   "id": "6938b4bd",
   "metadata": {},
   "outputs": [
    {
     "name": "stdout",
     "output_type": "stream",
     "text": [
      "Sales_person with highest commission: Sami - 17137.018882879514\n",
      "Sales_person with lowest commission: Sara - 13573.4668302\n"
     ]
    }
   ],
   "source": [
    "summary=sale_dataM.groupby(\"sales_person\")[\"commission_amount\"].sum().reset_index()\n",
    "sorted = summary.sort_values(by=\"commission_amount\", ascending=False)\n",
    "hihgest = sorted.iloc[0]\n",
    "lowest = sorted.iloc[-1]\n",
    "\n",
    "print(\"Sales_person with highest commission:\", highest[\"sales_person\"], \"-\", highest[\"commission_amount\"])\n",
    "print(\"Sales_person with lowest commission:\", lowest[\"sales_person\"], \"-\", lowest[\"commission_amount\"])\n"
   ]
  },
  {
   "cell_type": "markdown",
   "id": "a101b211",
   "metadata": {},
   "source": [
    "17- Calculate the Year-over-Year (YoY) percentage change in sales for each country. Visualize the sales trends for all countries over the years. Based on your results, describe how each country is performing. Identify which country shows consistent growth, which is stable, and if any country shows declining trends."
   ]
  },
  {
   "cell_type": "code",
   "execution_count": 399,
   "id": "f04db2c8",
   "metadata": {},
   "outputs": [
    {
     "data": {
      "text/html": [
       "<div>\n",
       "<style scoped>\n",
       "    .dataframe tbody tr th:only-of-type {\n",
       "        vertical-align: middle;\n",
       "    }\n",
       "\n",
       "    .dataframe tbody tr th {\n",
       "        vertical-align: top;\n",
       "    }\n",
       "\n",
       "    .dataframe thead th {\n",
       "        text-align: right;\n",
       "    }\n",
       "</style>\n",
       "<table border=\"1\" class=\"dataframe\">\n",
       "  <thead>\n",
       "    <tr style=\"text-align: right;\">\n",
       "      <th></th>\n",
       "      <th>country</th>\n",
       "      <th>year</th>\n",
       "      <th>total_amount</th>\n",
       "      <th>YoY_change</th>\n",
       "    </tr>\n",
       "  </thead>\n",
       "  <tbody>\n",
       "    <tr>\n",
       "      <th>0</th>\n",
       "      <td>Jordan</td>\n",
       "      <td>2021</td>\n",
       "      <td>609771.412950</td>\n",
       "      <td>NaN</td>\n",
       "    </tr>\n",
       "    <tr>\n",
       "      <th>1</th>\n",
       "      <td>Jordan</td>\n",
       "      <td>2022</td>\n",
       "      <td>596604.605940</td>\n",
       "      <td>-2.159302</td>\n",
       "    </tr>\n",
       "    <tr>\n",
       "      <th>2</th>\n",
       "      <td>Jordan</td>\n",
       "      <td>2023</td>\n",
       "      <td>622081.003410</td>\n",
       "      <td>4.270231</td>\n",
       "    </tr>\n",
       "    <tr>\n",
       "      <th>3</th>\n",
       "      <td>Jordan</td>\n",
       "      <td>2024</td>\n",
       "      <td>688462.200240</td>\n",
       "      <td>10.670828</td>\n",
       "    </tr>\n",
       "    <tr>\n",
       "      <th>4</th>\n",
       "      <td>Jordan</td>\n",
       "      <td>2025</td>\n",
       "      <td>346446.239730</td>\n",
       "      <td>-49.678248</td>\n",
       "    </tr>\n",
       "    <tr>\n",
       "      <th>5</th>\n",
       "      <td>Lebanon</td>\n",
       "      <td>2021</td>\n",
       "      <td>517423.028417</td>\n",
       "      <td>NaN</td>\n",
       "    </tr>\n",
       "    <tr>\n",
       "      <th>6</th>\n",
       "      <td>Lebanon</td>\n",
       "      <td>2022</td>\n",
       "      <td>561043.184012</td>\n",
       "      <td>8.430269</td>\n",
       "    </tr>\n",
       "    <tr>\n",
       "      <th>7</th>\n",
       "      <td>Lebanon</td>\n",
       "      <td>2023</td>\n",
       "      <td>581575.000895</td>\n",
       "      <td>3.659579</td>\n",
       "    </tr>\n",
       "    <tr>\n",
       "      <th>8</th>\n",
       "      <td>Lebanon</td>\n",
       "      <td>2024</td>\n",
       "      <td>511185.181441</td>\n",
       "      <td>-12.103309</td>\n",
       "    </tr>\n",
       "    <tr>\n",
       "      <th>9</th>\n",
       "      <td>Lebanon</td>\n",
       "      <td>2025</td>\n",
       "      <td>305532.980530</td>\n",
       "      <td>-40.230470</td>\n",
       "    </tr>\n",
       "  </tbody>\n",
       "</table>\n",
       "</div>"
      ],
      "text/plain": [
       "   country  year   total_amount  YoY_change\n",
       "0   Jordan  2021  609771.412950         NaN\n",
       "1   Jordan  2022  596604.605940   -2.159302\n",
       "2   Jordan  2023  622081.003410    4.270231\n",
       "3   Jordan  2024  688462.200240   10.670828\n",
       "4   Jordan  2025  346446.239730  -49.678248\n",
       "5  Lebanon  2021  517423.028417         NaN\n",
       "6  Lebanon  2022  561043.184012    8.430269\n",
       "7  Lebanon  2023  581575.000895    3.659579\n",
       "8  Lebanon  2024  511185.181441  -12.103309\n",
       "9  Lebanon  2025  305532.980530  -40.230470"
      ]
     },
     "execution_count": 399,
     "metadata": {},
     "output_type": "execute_result"
    }
   ],
   "source": [
    "sales = sale_dataM.groupby([\"country\", \"year\"])[\"total_amount\"].sum().reset_index()\n",
    "sales[\"YoY_change\"] = sales.groupby(\"country\")[\"total_amount\"].pct_change() * 100\n",
    "sales"
   ]
  },
  {
   "cell_type": "code",
   "execution_count": 400,
   "id": "d6a3a3bf",
   "metadata": {},
   "outputs": [
    {
     "data": {
      "image/png": "[encoded data removed]",
      "text/plain": [
       "<Figure size 1000x600 with 1 Axes>"
      ]
     },
     "metadata": {},
     "output_type": "display_data"
    }
   ],
   "source": [
    "plt.figure(figsize=(10,6))\n",
    "\n",
    "for country in sales[\"country\"].unique():\n",
    "    subset = sales[sales[\"country\"] == country]\n",
    "    plt.plot(subset[\"year\"], subset[\"total_amount\"], marker='o', label=country)\n",
    "\n",
    "plt.title(\"Sales Trends by Country\")\n",
    "plt.xlabel(\"Year\")\n",
    "plt.ylabel(\"Total Sales Amount\")\n",
    "plt.legend()\n",
    "plt.grid(True)\n",
    "plt.show()\n"
   ]
  },
  {
   "cell_type": "markdown",
   "id": "8daf20b0",
   "metadata": {},
   "source": [
    "18- Create a monthly summary report for each product showing total sales revenue, number of transactions, and total units sold."
   ]
  },
  {
   "cell_type": "code",
   "execution_count": 401,
   "id": "6fe8fe86",
   "metadata": {},
   "outputs": [
    {
     "data": {
      "text/html": [
       "<div>\n",
       "<style scoped>\n",
       "    .dataframe tbody tr th:only-of-type {\n",
       "        vertical-align: middle;\n",
       "    }\n",
       "\n",
       "    .dataframe tbody tr th {\n",
       "        vertical-align: top;\n",
       "    }\n",
       "\n",
       "    .dataframe thead th {\n",
       "        text-align: right;\n",
       "    }\n",
       "</style>\n",
       "<table border=\"1\" class=\"dataframe\">\n",
       "  <thead>\n",
       "    <tr style=\"text-align: right;\">\n",
       "      <th></th>\n",
       "      <th>product</th>\n",
       "      <th>year</th>\n",
       "      <th>month</th>\n",
       "      <th>total_revenue</th>\n",
       "      <th>num_tran</th>\n",
       "      <th>total_units</th>\n",
       "    </tr>\n",
       "  </thead>\n",
       "  <tbody>\n",
       "    <tr>\n",
       "      <th>0</th>\n",
       "      <td>Accessory</td>\n",
       "      <td>2021</td>\n",
       "      <td>1</td>\n",
       "      <td>743.09740</td>\n",
       "      <td>9</td>\n",
       "      <td>25</td>\n",
       "    </tr>\n",
       "    <tr>\n",
       "      <th>1</th>\n",
       "      <td>Accessory</td>\n",
       "      <td>2021</td>\n",
       "      <td>2</td>\n",
       "      <td>772.72950</td>\n",
       "      <td>11</td>\n",
       "      <td>26</td>\n",
       "    </tr>\n",
       "    <tr>\n",
       "      <th>2</th>\n",
       "      <td>Accessory</td>\n",
       "      <td>2021</td>\n",
       "      <td>3</td>\n",
       "      <td>1197.37220</td>\n",
       "      <td>15</td>\n",
       "      <td>39</td>\n",
       "    </tr>\n",
       "    <tr>\n",
       "      <th>3</th>\n",
       "      <td>Accessory</td>\n",
       "      <td>2021</td>\n",
       "      <td>4</td>\n",
       "      <td>1632.80840</td>\n",
       "      <td>16</td>\n",
       "      <td>54</td>\n",
       "    </tr>\n",
       "    <tr>\n",
       "      <th>4</th>\n",
       "      <td>Accessory</td>\n",
       "      <td>2021</td>\n",
       "      <td>5</td>\n",
       "      <td>1215.75590</td>\n",
       "      <td>14</td>\n",
       "      <td>41</td>\n",
       "    </tr>\n",
       "    <tr>\n",
       "      <th>...</th>\n",
       "      <td>...</td>\n",
       "      <td>...</td>\n",
       "      <td>...</td>\n",
       "      <td>...</td>\n",
       "      <td>...</td>\n",
       "      <td>...</td>\n",
       "    </tr>\n",
       "    <tr>\n",
       "      <th>600</th>\n",
       "      <td>Tablet</td>\n",
       "      <td>2025</td>\n",
       "      <td>3</td>\n",
       "      <td>14256.37223</td>\n",
       "      <td>14</td>\n",
       "      <td>41</td>\n",
       "    </tr>\n",
       "    <tr>\n",
       "      <th>601</th>\n",
       "      <td>Tablet</td>\n",
       "      <td>2025</td>\n",
       "      <td>4</td>\n",
       "      <td>12975.50670</td>\n",
       "      <td>13</td>\n",
       "      <td>38</td>\n",
       "    </tr>\n",
       "    <tr>\n",
       "      <th>602</th>\n",
       "      <td>Tablet</td>\n",
       "      <td>2025</td>\n",
       "      <td>5</td>\n",
       "      <td>14990.21770</td>\n",
       "      <td>17</td>\n",
       "      <td>43</td>\n",
       "    </tr>\n",
       "    <tr>\n",
       "      <th>603</th>\n",
       "      <td>Tablet</td>\n",
       "      <td>2025</td>\n",
       "      <td>6</td>\n",
       "      <td>16604.84900</td>\n",
       "      <td>16</td>\n",
       "      <td>48</td>\n",
       "    </tr>\n",
       "    <tr>\n",
       "      <th>604</th>\n",
       "      <td>Tablet</td>\n",
       "      <td>2025</td>\n",
       "      <td>7</td>\n",
       "      <td>4834.86920</td>\n",
       "      <td>4</td>\n",
       "      <td>14</td>\n",
       "    </tr>\n",
       "  </tbody>\n",
       "</table>\n",
       "<p>605 rows × 6 columns</p>\n",
       "</div>"
      ],
      "text/plain": [
       "       product  year  month  total_revenue  num_tran  total_units\n",
       "0    Accessory  2021      1      743.09740         9           25\n",
       "1    Accessory  2021      2      772.72950        11           26\n",
       "2    Accessory  2021      3     1197.37220        15           39\n",
       "3    Accessory  2021      4     1632.80840        16           54\n",
       "4    Accessory  2021      5     1215.75590        14           41\n",
       "..         ...   ...    ...            ...       ...          ...\n",
       "600     Tablet  2025      3    14256.37223        14           41\n",
       "601     Tablet  2025      4    12975.50670        13           38\n",
       "602     Tablet  2025      5    14990.21770        17           43\n",
       "603     Tablet  2025      6    16604.84900        16           48\n",
       "604     Tablet  2025      7     4834.86920         4           14\n",
       "\n",
       "[605 rows x 6 columns]"
      ]
     },
     "execution_count": 401,
     "metadata": {},
     "output_type": "execute_result"
    }
   ],
   "source": [
    "month = sale_dataM.groupby(['product', 'year', 'month']).agg(\n",
    "    total_revenue=('total_amount', 'sum'),\n",
    "    num_tran=('order_id', 'count'),\n",
    "    total_units=('units_sold', 'sum')\n",
    ").reset_index()\n",
    "month"
   ]
  },
  {
   "cell_type": "code",
   "execution_count": 402,
   "id": "c9f80605",
   "metadata": {},
   "outputs": [
    {
     "data": {
      "image/png": "[encoded data removed]",
      "text/plain": [
       "<Figure size 1000x500 with 1 Axes>"
      ]
     },
     "metadata": {},
     "output_type": "display_data"
    }
   ],
   "source": [
    "\n",
    "product = \"Laptop\"  \n",
    "product_2024 = month[(month['product'] == product) & \n",
    "                               (month['year'] == 2024)]\n",
    "\n",
    "plt.figure(figsize=(10,5))\n",
    "plt.plot(product_2024['month'], product_2024['total_revenue'], marker='o')\n",
    "plt.title(f\"Monthly Sales Trend for {product} in 2024\")\n",
    "plt.xlabel(\"Month\")\n",
    "plt.ylabel(\"Total Sales Revenue\")\n",
    "plt.xticks(range(1,13))  \n",
    "plt.grid(True)\n",
    "plt.show()\n"
   ]
  },
  {
   "cell_type": "markdown",
   "id": "1091d724",
   "metadata": {},
   "source": [
    "19- How many promotion periods were there? For each period, specify the month and year, and list the products included in the promotion?"
   ]
  },
  {
   "cell_type": "code",
   "execution_count": 403,
   "id": "e86c5743",
   "metadata": {},
   "outputs": [
    {
     "name": "stdout",
     "output_type": "stream",
     "text": [
      "Number of promotion periods: 3\n"
     ]
    },
    {
     "data": {
      "text/html": [
       "<div>\n",
       "<style scoped>\n",
       "    .dataframe tbody tr th:only-of-type {\n",
       "        vertical-align: middle;\n",
       "    }\n",
       "\n",
       "    .dataframe tbody tr th {\n",
       "        vertical-align: top;\n",
       "    }\n",
       "\n",
       "    .dataframe thead th {\n",
       "        text-align: right;\n",
       "    }\n",
       "</style>\n",
       "<table border=\"1\" class=\"dataframe\">\n",
       "  <thead>\n",
       "    <tr style=\"text-align: right;\">\n",
       "      <th></th>\n",
       "      <th>year</th>\n",
       "      <th>month</th>\n",
       "      <th>product</th>\n",
       "      <th>promotion_period</th>\n",
       "    </tr>\n",
       "  </thead>\n",
       "  <tbody>\n",
       "    <tr>\n",
       "      <th>0</th>\n",
       "      <td>2023</td>\n",
       "      <td>7</td>\n",
       "      <td>[Laptop, Mouse, Keyboard, Chair]</td>\n",
       "      <td>1</td>\n",
       "    </tr>\n",
       "    <tr>\n",
       "      <th>1</th>\n",
       "      <td>2024</td>\n",
       "      <td>11</td>\n",
       "      <td>[Headset, Gaming Chair]</td>\n",
       "      <td>2</td>\n",
       "    </tr>\n",
       "    <tr>\n",
       "      <th>2</th>\n",
       "      <td>2024</td>\n",
       "      <td>12</td>\n",
       "      <td>[Gaming Chair, Headset]</td>\n",
       "      <td>3</td>\n",
       "    </tr>\n",
       "  </tbody>\n",
       "</table>\n",
       "</div>"
      ],
      "text/plain": [
       "   year  month                           product  promotion_period\n",
       "0  2023      7  [Laptop, Mouse, Keyboard, Chair]                 1\n",
       "1  2024     11           [Headset, Gaming Chair]                 2\n",
       "2  2024     12           [Gaming Chair, Headset]                 3"
      ]
     },
     "execution_count": 403,
     "metadata": {},
     "output_type": "execute_result"
    }
   ],
   "source": [
    "promotions = sale_dataM[sale_dataM[\"promotion_flag\"] == True]\n",
    "\n",
    "promotion_periods = (\n",
    "    promotions.groupby([\"year\",\"month\"])[\"product\"]\n",
    "              .unique()  \n",
    "              .reset_index()\n",
    ")\n",
    "\n",
    "promotion_periods[\"promotion_period\"] = range(1, len(promotion_periods)+1)\n",
    "\n",
    "print(\"Number of promotion periods:\", len(promotion_periods))\n",
    "promotion_periods\n"
   ]
  },
  {
   "cell_type": "markdown",
   "id": "799e674e",
   "metadata": {},
   "source": [
    " which promotion period increased, decreased, or had no effect on  sales of promotions products"
   ]
  },
  {
   "cell_type": "code",
   "execution_count": 404,
   "id": "9892cfef",
   "metadata": {},
   "outputs": [
    {
     "data": {
      "text/html": [
       "<div>\n",
       "<style scoped>\n",
       "    .dataframe tbody tr th:only-of-type {\n",
       "        vertical-align: middle;\n",
       "    }\n",
       "\n",
       "    .dataframe tbody tr th {\n",
       "        vertical-align: top;\n",
       "    }\n",
       "\n",
       "    .dataframe thead th {\n",
       "        text-align: right;\n",
       "    }\n",
       "</style>\n",
       "<table border=\"1\" class=\"dataframe\">\n",
       "  <thead>\n",
       "    <tr style=\"text-align: right;\">\n",
       "      <th></th>\n",
       "      <th>year</th>\n",
       "      <th>month</th>\n",
       "      <th>effect</th>\n",
       "      <th>during_sales</th>\n",
       "      <th>prev_sales</th>\n",
       "      <th>after_sales</th>\n",
       "    </tr>\n",
       "  </thead>\n",
       "  <tbody>\n",
       "    <tr>\n",
       "      <th>0</th>\n",
       "      <td>2023</td>\n",
       "      <td>7</td>\n",
       "      <td>decreased</td>\n",
       "      <td>155</td>\n",
       "      <td>207</td>\n",
       "      <td>151</td>\n",
       "    </tr>\n",
       "    <tr>\n",
       "      <th>1</th>\n",
       "      <td>2024</td>\n",
       "      <td>11</td>\n",
       "      <td>increased</td>\n",
       "      <td>89</td>\n",
       "      <td>51</td>\n",
       "      <td>105</td>\n",
       "    </tr>\n",
       "    <tr>\n",
       "      <th>2</th>\n",
       "      <td>2024</td>\n",
       "      <td>12</td>\n",
       "      <td>increased</td>\n",
       "      <td>105</td>\n",
       "      <td>89</td>\n",
       "      <td>0</td>\n",
       "    </tr>\n",
       "  </tbody>\n",
       "</table>\n",
       "</div>"
      ],
      "text/plain": [
       "   year  month     effect  during_sales  prev_sales  after_sales\n",
       "0  2023      7  decreased           155         207          151\n",
       "1  2024     11  increased            89          51          105\n",
       "2  2024     12  increased           105          89            0"
      ]
     },
     "execution_count": 404,
     "metadata": {},
     "output_type": "execute_result"
    }
   ],
   "source": [
    "\n",
    "\n",
    "promo_sales = sale_dataM[sale_dataM['promotion_flag'] == 1]\n",
    "\n",
    "monthly_sales = sale_dataM.groupby(['year','month','product'])['units_sold'].sum().reset_index()\n",
    "\n",
    "results = []\n",
    "\n",
    "for _, row in promotion_periods.iterrows():\n",
    "    y, m, products = row['year'], row['month'], row['product']\n",
    "    \n",
    "    prev = monthly_sales[(monthly_sales['year']==y) & (monthly_sales['month']==m-1) & (monthly_sales['product'].isin(products))]['units_sold'].sum()\n",
    "    during = monthly_sales[(monthly_sales['year']==y) & (monthly_sales['month']==m) & (monthly_sales['product'].isin(products))]['units_sold'].sum()\n",
    "    after = monthly_sales[(monthly_sales['year']==y) & (monthly_sales['month']==m+1) & (monthly_sales['product'].isin(products))]['units_sold'].sum()\n",
    "    \n",
    "    if during > prev:\n",
    "        effect = \"increased\"\n",
    "    elif during < prev:\n",
    "        effect = \"decreased\"\n",
    "    else:\n",
    "        effect = \"no effect\"\n",
    "        \n",
    "    results.append({\"year\": y, \"month\": m, \"effect\": effect, \"during_sales\": during, \"prev_sales\": prev, \"after_sales\": after})\n",
    "\n",
    "pd.DataFrame(results)\n"
   ]
  }
 ],
 "metadata": {
  "kernelspec": {
   "display_name": "base",
   "language": "python",
   "name": "python3"
  },
  "language_info": {
   "codemirror_mode": {
    "name": "ipython",
    "version": 3
   },
   "file_extension": ".py",
   "mimetype": "text/x-python",
   "name": "python",
   "nbconvert_exporter": "python",
   "pygments_lexer": "ipython3",
   "version": "3.11.5"
  }
 },
 "nbformat": 4,
 "nbformat_minor": 5
}
